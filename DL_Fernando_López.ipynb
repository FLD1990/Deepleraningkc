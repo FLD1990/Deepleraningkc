{
  "nbformat": 4,
  "nbformat_minor": 0,
  "metadata": {
    "colab": {
      "provenance": [],
      "authorship_tag": "ABX9TyOKj11fpTc9srG1n3RgSo9P",
      "include_colab_link": true
    },
    "kernelspec": {
      "name": "python3",
      "display_name": "Python 3"
    },
    "language_info": {
      "name": "python"
    }
  },
  "cells": [
    {
      "cell_type": "markdown",
      "metadata": {
        "id": "view-in-github",
        "colab_type": "text"
      },
      "source": [
        "<a href=\"https://colab.research.google.com/github/FLD1990/Deepleraningkc/blob/main/DL_Fernando_L%C3%B3pez.ipynb\" target=\"_parent\"><img src=\"https://colab.research.google.com/assets/colab-badge.svg\" alt=\"Open In Colab\"/></a>"
      ]
    },
    {
      "cell_type": "markdown",
      "source": [
        "# **Objetivo : Practica Deeplearning**\n",
        "\n",
        "El objetivo de la práctica final del módulo de Deep Learning consiste en solucionar un problema del mundo real usando las técnicas vistas en clase. En concreto, lo que se pretende es tratar de predecir el precio de habitaciones de AirBnb utilizando para ello todas las características disponibles en el dataset.\n",
        "El propósito final no es tener un sistema con una precisión altísima, sino que combinéis distintos tipos de características (numéricas, texto, imágenes...) y que expliquéis cómo lo habéis hecho.\\\n",
        "\n",
        "Implementación de un algoritmo predictivo para el precio de habitaciones\n",
        "# Módulo 1: Estimación individual de precios\n",
        "\n",
        "**A. Modelo basado en datos 1D:**\n",
        "\n",
        "Red neuronal densa:\n",
        "Diseño de una red neuronal con capas Dense para procesar datos tabulares.\n",
        "Selección del número de capas y neuronas por capa.\n",
        "Entrenamiento de la red neuronal con un optimizador como Adam y una función de pérdida adecuada.\n",
        "Características:\n",
        "Se utilizarán variables relevantes como tamaño de la habitación, tipo de cama, ubicación, etc.\n",
        "Preprocesamiento de datos categóricos y numéricos.\n",
        "\n",
        "\n",
        "**B. Modelo basado en imágenes:**\n",
        "\n",
        "Arquitectura: Se probarán diferentes arquitecturas CNN como:\n",
        "\n",
        "\n",
        "*   ResNet: Modelo robusto con buenas capacidades de aprendizaje profundo.\n",
        "*   VGGNet: Arquitectura simple y eficiente para clasificación de imágenes.\n",
        "*   EfficientNet: Modelo eficiente con buen balance entre precisión y complejidad.\n",
        "\n",
        "Experimentos:\n",
        "Entrenamiento de las arquitecturas con diferentes conjuntos de datos de imágenes de habitaciones.\n",
        "Optimización de hiperparámetros como la tasa de aprendizaje, el número de epochs y el tamaño del batch.\n",
        "Evaluación del rendimiento de los modelos en conjuntos de validación y prueba.\n",
        "Procesamiento de imágenes:\n",
        "Redimensionamiento y normalización de las imágenes.\n",
        "Aumentación de datos para ampliar el conjunto de entrenamiento (opcional).\n",
        "\n",
        "# Módulo 2: Modelo híbrido\n",
        "\n",
        "**A. Combinación de modelos:**\n",
        "\n",
        "Fusión temprana: Concatenación de las características de las imágenes y datos 1D antes de la entrada a la red neuronal.\n",
        "Fusión tardía: Entrenamiento de dos redes independientes para imágenes y datos 1D, y posterior combinación de sus predicciones.\n",
        "\n",
        "**B. Experimentos:**\n",
        "\n",
        "Evaluación de diferentes estrategias de fusión:\n",
        "Comparación del rendimiento de la fusión temprana y tardía.\n",
        "Pruebas con diferentes arquitecturas de red neuronal para la fusión.\n",
        "\n",
        "**C. Criterios de evaluación:**\n",
        "\n",
        "Precisión del modelo: Medida mediante métricas como RMSE (Root Mean Square Error) o MAE (Mean Absolute Error).\n",
        "Interpretabilidad del modelo: Análisis de la importancia de las diferentes características en la predicción del precio.\n"
      ],
      "metadata": {
        "id": "q5kTpqqk-kKe"
      }
    },
    {
      "cell_type": "markdown",
      "source": [
        "##Descarga y preprocesado de los datos\n",
        "**(Obligatoria reconectar)**"
      ],
      "metadata": {
        "id": "4JFqbBsy85F_"
      }
    },
    {
      "cell_type": "code",
      "source": [
        "import tensorflow as tf\n",
        "from sklearn.model_selection import train_test_split\n",
        "from tensorflow.keras.utils import to_categorical\n",
        "from tensorflow.keras.models import Sequential, Model\n",
        "from sklearn.metrics import classification_report\n",
        "from tensorflow.keras.layers import Dense, Flatten, Input, Conv2D, GlobalMaxPooling2D, GlobalAveragePooling2D, BatchNormalization, Activation, Dropout, concatenate\n",
        "from tensorflow.keras.optimizers import SGD, Adam\n",
        "from sklearn.preprocessing import MinMaxScaler\n",
        "from tensorflow.keras.preprocessing.image import img_to_array\n",
        "from tensorflow.keras.applications import VGG16, imagenet_utils\n",
        "from tensorflow.keras.regularizers import l2\n",
        "import cv2\n",
        "import imageio as io\n",
        "from google.colab import drive\n",
        "import numpy as np\n",
        "import pandas as pd\n",
        "\n",
        "\n",
        "import matplotlib.pyplot as plt\n",
        "from matplotlib.colors import ListedColormap\n",
        "%matplotlib inline\n",
        "\n",
        "cm = plt.cm.RdBu\n",
        "cm_bright = ListedColormap(['#FF0000', '#0000FF'])\n",
        "\n",
        "import warnings\n",
        "warnings.filterwarnings('ignore')\n",
        "\n",
        "import cv2\n",
        "import numpy\n",
        "import pandas\n",
        "import imageio.v3 as io\n",
        "\n",
        "from tqdm import tqdm\n",
        "from typing import Optional, Union\n",
        "\n",
        "from google.colab import drive\n",
        "drive.mount('/content/drive')\n",
        "\n",
        "import cv2\n",
        "import numpy\n",
        "import pandas\n",
        "import imageio.v3 as io\n",
        "\n",
        "from tqdm import tqdm\n",
        "from typing import Optional, Union\n",
        "\n",
        "##pd.set_option('display.max_rows', None) # para mostrar todas las filas\n",
        "##pd.set_option('display.max_columns', None) # para mostrar todas las columnas"
      ],
      "metadata": {
        "id": "bIlWAaS4843n",
        "colab": {
          "base_uri": "https://localhost:8080/"
        },
        "outputId": "e5bfb708-f20e-4306-d9dc-3613b9c1a0eb"
      },
      "execution_count": 1,
      "outputs": [
        {
          "output_type": "stream",
          "name": "stdout",
          "text": [
            "Drive already mounted at /content/drive; to attempt to forcibly remount, call drive.mount(\"/content/drive\", force_remount=True).\n"
          ]
        }
      ]
    },
    {
      "cell_type": "code",
      "execution_count": null,
      "metadata": {
        "id": "S8WUhU9SVuIc",
        "colab": {
          "base_uri": "https://localhost:8080/"
        },
        "outputId": "54cabd6b-fa51-4242-fb56-2e279a453894"
      },
      "outputs": [
        {
          "output_type": "stream",
          "name": "stdout",
          "text": [
            "--2024-03-03 17:45:07--  https://public.opendatasoft.com/explore/dataset/airbnb-listings/download/?format=csv&disjunctive.host_verifications=true&disjunctive.amenities=true&disjunctive.features=true&refine.country=Spain&q=Madrid&timezone=Europe/London&use_labels_for_header=true&csv_separator=%3B\n",
            "Resolving public.opendatasoft.com (public.opendatasoft.com)... 34.249.199.226, 34.248.20.69\n",
            "Connecting to public.opendatasoft.com (public.opendatasoft.com)|34.249.199.226|:443... connected.\n",
            "HTTP request sent, awaiting response... 200 OK\n",
            "Length: unspecified [application/csv]\n",
            "Saving to: ‘airbnb-listings.csv’\n",
            "\n",
            "airbnb-listings.csv     [             <=>    ]  52.85M  15.4MB/s    in 3.4s    \n",
            "\n",
            "2024-03-03 17:45:11 (15.4 MB/s) - ‘airbnb-listings.csv’ saved [55414009]\n",
            "\n"
          ]
        }
      ],
      "source": [
        "!wget -O \"airbnb-listings.csv\" \"https://public.opendatasoft.com/explore/dataset/airbnb-listings/download/?format=csv&disjunctive.host_verifications=true&disjunctive.amenities=true&disjunctive.features=true&refine.country=Spain&q=Madrid&timezone=Europe/London&use_labels_for_header=true&csv_separator=%3B\""
      ]
    },
    {
      "cell_type": "code",
      "source": [
        "data = pandas.read_csv(\"airbnb-listings.csv\", sep = ';')\n",
        "data = data.dropna(subset=['Price'])\n",
        "data"
      ],
      "metadata": {
        "colab": {
          "base_uri": "https://localhost:8080/",
          "height": 1000
        },
        "id": "ObWJCreDCCwz",
        "outputId": "403c9dd6-faa7-4e56-cf60-1e5cba93fdf4"
      },
      "execution_count": null,
      "outputs": [
        {
          "output_type": "execute_result",
          "data": {
            "text/plain": [
              "             ID                            Listing Url       Scrape ID  \\\n",
              "0      16536728  https://www.airbnb.com/rooms/16536728  20170407214119   \n",
              "1      14800288  https://www.airbnb.com/rooms/14800288  20170407214119   \n",
              "2      12357427  https://www.airbnb.com/rooms/12357427  20170407214119   \n",
              "3       7984552   https://www.airbnb.com/rooms/7984552  20170407214119   \n",
              "4      17244421  https://www.airbnb.com/rooms/17244421  20170407214119   \n",
              "...         ...                                    ...             ...   \n",
              "13996  12185821  https://www.airbnb.com/rooms/12185821  20170407214119   \n",
              "13997    799569    https://www.airbnb.com/rooms/799569  20170407214119   \n",
              "13998  15542212  https://www.airbnb.com/rooms/15542212  20170407214119   \n",
              "13999  14725727  https://www.airbnb.com/rooms/14725727  20170407214119   \n",
              "14000  18107783  https://www.airbnb.com/rooms/18107783  20170407214050   \n",
              "\n",
              "      Last Scraped                                    Name  \\\n",
              "0       2017-04-08         Ático en el Barrio de Salamanca   \n",
              "1       2017-04-08  Salamanca Comfort XI, Friendly Rentals   \n",
              "2       2017-04-08        Apt. by the music Conservatory!!   \n",
              "3       2017-04-08     Double Room near RealMadrid Stadium   \n",
              "4       2017-04-08                        Mid Century Flat   \n",
              "...            ...                                     ...   \n",
              "13996   2017-04-08     Apartamento completo una habitación   \n",
              "13997   2017-04-08      PENTHOUSE/TERRACE, THE CITY CENTER   \n",
              "13998   2017-04-08        Cozy & Centric 1BD - Conde Duque   \n",
              "13999   2017-04-08               Room near Madrid downtown   \n",
              "14000   2017-04-08            Luxury Apt 3BD in Barcelona!   \n",
              "\n",
              "                                                 Summary  \\\n",
              "0      Precioso ático en el barrio de Salamanca.  Dos...   \n",
              "1      Lugares de interés: Fide, Bienmesabe, Restaura...   \n",
              "2      Very bright apartment with 2 bedrooms 1 with p...   \n",
              "3      The flat is on the ground floor. There's a com...   \n",
              "4      Mi alojamiento es bueno para viajeros de negoc...   \n",
              "...                                                  ...   \n",
              "13996  Hola! Nuestro apartamento es un lugar acogedor...   \n",
              "13997  A charming and beautiful 2 independents bedroo...   \n",
              "13998  Calm and confortable apartment. Totally renewe...   \n",
              "13999  Highlight Places: Plaza España, Conde Duque Cu...   \n",
              "14000  *PLEASE DO NOT INSTANT BOOK before you contact...   \n",
              "\n",
              "                                                   Space  \\\n",
              "0                                                    NaN   \n",
              "1      Apartamento de nueva construcción (julio 2016)...   \n",
              "2                                                    NaN   \n",
              "3      Cosy large room for two people with a flat TV ...   \n",
              "4                                                    NaN   \n",
              "...                                                  ...   \n",
              "13996  Muy acogedor, y tenemos un ventanal que da a l...   \n",
              "13997  A charming and beautiful 2 bedroom attic The a...   \n",
              "13998  Calm and confortable apartment. Totally renewe...   \n",
              "13999  It is well located for access to central touri...   \n",
              "14000                                                NaN   \n",
              "\n",
              "                                             Description Experiences Offered  \\\n",
              "0      Precioso ático en el barrio de Salamanca.  Dos...                none   \n",
              "1      Apartamento de nueva construcción (julio 2016)...                none   \n",
              "2      Very bright apartment with 2 bedrooms 1 with p...                none   \n",
              "3      The flat is on the ground floor. There's a com...                none   \n",
              "4      Mi alojamiento es bueno para viajeros de negoc...                none   \n",
              "...                                                  ...                 ...   \n",
              "13996  Hola! Nuestro apartamento es un lugar acogedor...                none   \n",
              "13997  A charming and beautiful 2 independents bedroo...                none   \n",
              "13998  Calm and confortable apartment. Totally renewe...                none   \n",
              "13999  Highlight Places: Plaza España, Conde Duque Cu...                none   \n",
              "14000  *PLEASE DO NOT INSTANT BOOK before you contact...                none   \n",
              "\n",
              "                                   Neighborhood Overview  ...  \\\n",
              "0                                                    NaN  ...   \n",
              "1      Localizado en el distrito de Salamanca, uno de...  ...   \n",
              "2                                                    NaN  ...   \n",
              "3      Chamartín is an administrative district of Mad...  ...   \n",
              "4                                                    NaN  ...   \n",
              "...                                                  ...  ...   \n",
              "13996  Es una zona muy céntrica donde tomarte unas ca...  ...   \n",
              "13997  Malasaña is considered the Bohemian district M...  ...   \n",
              "13998  Conde Duque is a dynamic and central neighborh...  ...   \n",
              "13999  The neighborhood has many shops (Zara, El Cort...  ...   \n",
              "14000                                                NaN  ...   \n",
              "\n",
              "      Review Scores Communication Review Scores Location Review Scores Value  \\\n",
              "0                             NaN                    NaN                 NaN   \n",
              "1                             8.0                   10.0                 9.0   \n",
              "2                             8.0                    8.0                 8.0   \n",
              "3                             NaN                    NaN                 NaN   \n",
              "4                             NaN                    NaN                 NaN   \n",
              "...                           ...                    ...                 ...   \n",
              "13996                         NaN                    NaN                 NaN   \n",
              "13997                        10.0                   10.0                 9.0   \n",
              "13998                        10.0                   10.0                 9.0   \n",
              "13999                        10.0                   10.0                10.0   \n",
              "14000                         NaN                    NaN                 NaN   \n",
              "\n",
              "      License Jurisdiction Names Cancellation Policy  \\\n",
              "0         NaN                NaN            moderate   \n",
              "1         NaN                NaN              strict   \n",
              "2         NaN                NaN            flexible   \n",
              "3         NaN                NaN            moderate   \n",
              "4         NaN                NaN            flexible   \n",
              "...       ...                ...                 ...   \n",
              "13996     NaN                NaN            flexible   \n",
              "13997     NaN                NaN              strict   \n",
              "13998     NaN                NaN            flexible   \n",
              "13999     NaN                NaN            flexible   \n",
              "14000     NaN                NaN            flexible   \n",
              "\n",
              "      Calculated host listings count  Reviews per Month  \\\n",
              "0                                  1                NaN   \n",
              "1                                145               0.79   \n",
              "2                                  1               0.43   \n",
              "3                                  2                NaN   \n",
              "4                                  1                NaN   \n",
              "...                              ...                ...   \n",
              "13996                              1                NaN   \n",
              "13997                              2               2.40   \n",
              "13998                              1               0.94   \n",
              "13999                              1               3.28   \n",
              "14000                              1                NaN   \n",
              "\n",
              "                                  Geolocation  \\\n",
              "0        40.43007580267911,-3.674373225929859   \n",
              "1        40.43561324649597,-3.678321445006713   \n",
              "2      40.446440723481764,-3.6742595345116214   \n",
              "3       40.455167347211834,-3.698099022915008   \n",
              "4         40.43988285945364,-3.71737227282086   \n",
              "...                                       ...   \n",
              "13996  40.397772302001854,-3.6945501615175997   \n",
              "13997   40.42579998148187,-3.7040803907189943   \n",
              "13998   40.42616571464884,-3.7077944204488813   \n",
              "13999     40.43017745149435,-3.71326014626314   \n",
              "14000    41.385680758683485,2.175755668563987   \n",
              "\n",
              "                                                Features  \n",
              "0      Host Has Profile Pic,Is Location Exact,Require...  \n",
              "1      Host Has Profile Pic,Is Location Exact,Require...  \n",
              "2      Host Has Profile Pic,Host Identity Verified,Is...  \n",
              "3      Host Is Superhost,Host Has Profile Pic,Is Loca...  \n",
              "4      Host Has Profile Pic,Is Location Exact,Require...  \n",
              "...                                                  ...  \n",
              "13996  Host Has Profile Pic,Host Identity Verified,Is...  \n",
              "13997  Host Has Profile Pic,Is Location Exact,Require...  \n",
              "13998  Host Has Profile Pic,Host Identity Verified,Is...  \n",
              "13999  Host Is Superhost,Host Has Profile Pic,Host Id...  \n",
              "14000  Host Has Profile Pic,Host Identity Verified,Is...  \n",
              "\n",
              "[13990 rows x 89 columns]"
            ],
            "text/html": [
              "\n",
              "  <div id=\"df-945aed62-2293-42ae-87bc-d207a6acdfcf\" class=\"colab-df-container\">\n",
              "    <div>\n",
              "<style scoped>\n",
              "    .dataframe tbody tr th:only-of-type {\n",
              "        vertical-align: middle;\n",
              "    }\n",
              "\n",
              "    .dataframe tbody tr th {\n",
              "        vertical-align: top;\n",
              "    }\n",
              "\n",
              "    .dataframe thead th {\n",
              "        text-align: right;\n",
              "    }\n",
              "</style>\n",
              "<table border=\"1\" class=\"dataframe\">\n",
              "  <thead>\n",
              "    <tr style=\"text-align: right;\">\n",
              "      <th></th>\n",
              "      <th>ID</th>\n",
              "      <th>Listing Url</th>\n",
              "      <th>Scrape ID</th>\n",
              "      <th>Last Scraped</th>\n",
              "      <th>Name</th>\n",
              "      <th>Summary</th>\n",
              "      <th>Space</th>\n",
              "      <th>Description</th>\n",
              "      <th>Experiences Offered</th>\n",
              "      <th>Neighborhood Overview</th>\n",
              "      <th>...</th>\n",
              "      <th>Review Scores Communication</th>\n",
              "      <th>Review Scores Location</th>\n",
              "      <th>Review Scores Value</th>\n",
              "      <th>License</th>\n",
              "      <th>Jurisdiction Names</th>\n",
              "      <th>Cancellation Policy</th>\n",
              "      <th>Calculated host listings count</th>\n",
              "      <th>Reviews per Month</th>\n",
              "      <th>Geolocation</th>\n",
              "      <th>Features</th>\n",
              "    </tr>\n",
              "  </thead>\n",
              "  <tbody>\n",
              "    <tr>\n",
              "      <th>0</th>\n",
              "      <td>16536728</td>\n",
              "      <td>https://www.airbnb.com/rooms/16536728</td>\n",
              "      <td>20170407214119</td>\n",
              "      <td>2017-04-08</td>\n",
              "      <td>Ático en el Barrio de Salamanca</td>\n",
              "      <td>Precioso ático en el barrio de Salamanca.  Dos...</td>\n",
              "      <td>NaN</td>\n",
              "      <td>Precioso ático en el barrio de Salamanca.  Dos...</td>\n",
              "      <td>none</td>\n",
              "      <td>NaN</td>\n",
              "      <td>...</td>\n",
              "      <td>NaN</td>\n",
              "      <td>NaN</td>\n",
              "      <td>NaN</td>\n",
              "      <td>NaN</td>\n",
              "      <td>NaN</td>\n",
              "      <td>moderate</td>\n",
              "      <td>1</td>\n",
              "      <td>NaN</td>\n",
              "      <td>40.43007580267911,-3.674373225929859</td>\n",
              "      <td>Host Has Profile Pic,Is Location Exact,Require...</td>\n",
              "    </tr>\n",
              "    <tr>\n",
              "      <th>1</th>\n",
              "      <td>14800288</td>\n",
              "      <td>https://www.airbnb.com/rooms/14800288</td>\n",
              "      <td>20170407214119</td>\n",
              "      <td>2017-04-08</td>\n",
              "      <td>Salamanca Comfort XI, Friendly Rentals</td>\n",
              "      <td>Lugares de interés: Fide, Bienmesabe, Restaura...</td>\n",
              "      <td>Apartamento de nueva construcción (julio 2016)...</td>\n",
              "      <td>Apartamento de nueva construcción (julio 2016)...</td>\n",
              "      <td>none</td>\n",
              "      <td>Localizado en el distrito de Salamanca, uno de...</td>\n",
              "      <td>...</td>\n",
              "      <td>8.0</td>\n",
              "      <td>10.0</td>\n",
              "      <td>9.0</td>\n",
              "      <td>NaN</td>\n",
              "      <td>NaN</td>\n",
              "      <td>strict</td>\n",
              "      <td>145</td>\n",
              "      <td>0.79</td>\n",
              "      <td>40.43561324649597,-3.678321445006713</td>\n",
              "      <td>Host Has Profile Pic,Is Location Exact,Require...</td>\n",
              "    </tr>\n",
              "    <tr>\n",
              "      <th>2</th>\n",
              "      <td>12357427</td>\n",
              "      <td>https://www.airbnb.com/rooms/12357427</td>\n",
              "      <td>20170407214119</td>\n",
              "      <td>2017-04-08</td>\n",
              "      <td>Apt. by the music Conservatory!!</td>\n",
              "      <td>Very bright apartment with 2 bedrooms 1 with p...</td>\n",
              "      <td>NaN</td>\n",
              "      <td>Very bright apartment with 2 bedrooms 1 with p...</td>\n",
              "      <td>none</td>\n",
              "      <td>NaN</td>\n",
              "      <td>...</td>\n",
              "      <td>8.0</td>\n",
              "      <td>8.0</td>\n",
              "      <td>8.0</td>\n",
              "      <td>NaN</td>\n",
              "      <td>NaN</td>\n",
              "      <td>flexible</td>\n",
              "      <td>1</td>\n",
              "      <td>0.43</td>\n",
              "      <td>40.446440723481764,-3.6742595345116214</td>\n",
              "      <td>Host Has Profile Pic,Host Identity Verified,Is...</td>\n",
              "    </tr>\n",
              "    <tr>\n",
              "      <th>3</th>\n",
              "      <td>7984552</td>\n",
              "      <td>https://www.airbnb.com/rooms/7984552</td>\n",
              "      <td>20170407214119</td>\n",
              "      <td>2017-04-08</td>\n",
              "      <td>Double Room near RealMadrid Stadium</td>\n",
              "      <td>The flat is on the ground floor. There's a com...</td>\n",
              "      <td>Cosy large room for two people with a flat TV ...</td>\n",
              "      <td>The flat is on the ground floor. There's a com...</td>\n",
              "      <td>none</td>\n",
              "      <td>Chamartín is an administrative district of Mad...</td>\n",
              "      <td>...</td>\n",
              "      <td>NaN</td>\n",
              "      <td>NaN</td>\n",
              "      <td>NaN</td>\n",
              "      <td>NaN</td>\n",
              "      <td>NaN</td>\n",
              "      <td>moderate</td>\n",
              "      <td>2</td>\n",
              "      <td>NaN</td>\n",
              "      <td>40.455167347211834,-3.698099022915008</td>\n",
              "      <td>Host Is Superhost,Host Has Profile Pic,Is Loca...</td>\n",
              "    </tr>\n",
              "    <tr>\n",
              "      <th>4</th>\n",
              "      <td>17244421</td>\n",
              "      <td>https://www.airbnb.com/rooms/17244421</td>\n",
              "      <td>20170407214119</td>\n",
              "      <td>2017-04-08</td>\n",
              "      <td>Mid Century Flat</td>\n",
              "      <td>Mi alojamiento es bueno para viajeros de negoc...</td>\n",
              "      <td>NaN</td>\n",
              "      <td>Mi alojamiento es bueno para viajeros de negoc...</td>\n",
              "      <td>none</td>\n",
              "      <td>NaN</td>\n",
              "      <td>...</td>\n",
              "      <td>NaN</td>\n",
              "      <td>NaN</td>\n",
              "      <td>NaN</td>\n",
              "      <td>NaN</td>\n",
              "      <td>NaN</td>\n",
              "      <td>flexible</td>\n",
              "      <td>1</td>\n",
              "      <td>NaN</td>\n",
              "      <td>40.43988285945364,-3.71737227282086</td>\n",
              "      <td>Host Has Profile Pic,Is Location Exact,Require...</td>\n",
              "    </tr>\n",
              "    <tr>\n",
              "      <th>...</th>\n",
              "      <td>...</td>\n",
              "      <td>...</td>\n",
              "      <td>...</td>\n",
              "      <td>...</td>\n",
              "      <td>...</td>\n",
              "      <td>...</td>\n",
              "      <td>...</td>\n",
              "      <td>...</td>\n",
              "      <td>...</td>\n",
              "      <td>...</td>\n",
              "      <td>...</td>\n",
              "      <td>...</td>\n",
              "      <td>...</td>\n",
              "      <td>...</td>\n",
              "      <td>...</td>\n",
              "      <td>...</td>\n",
              "      <td>...</td>\n",
              "      <td>...</td>\n",
              "      <td>...</td>\n",
              "      <td>...</td>\n",
              "      <td>...</td>\n",
              "    </tr>\n",
              "    <tr>\n",
              "      <th>13996</th>\n",
              "      <td>12185821</td>\n",
              "      <td>https://www.airbnb.com/rooms/12185821</td>\n",
              "      <td>20170407214119</td>\n",
              "      <td>2017-04-08</td>\n",
              "      <td>Apartamento completo una habitación</td>\n",
              "      <td>Hola! Nuestro apartamento es un lugar acogedor...</td>\n",
              "      <td>Muy acogedor, y tenemos un ventanal que da a l...</td>\n",
              "      <td>Hola! Nuestro apartamento es un lugar acogedor...</td>\n",
              "      <td>none</td>\n",
              "      <td>Es una zona muy céntrica donde tomarte unas ca...</td>\n",
              "      <td>...</td>\n",
              "      <td>NaN</td>\n",
              "      <td>NaN</td>\n",
              "      <td>NaN</td>\n",
              "      <td>NaN</td>\n",
              "      <td>NaN</td>\n",
              "      <td>flexible</td>\n",
              "      <td>1</td>\n",
              "      <td>NaN</td>\n",
              "      <td>40.397772302001854,-3.6945501615175997</td>\n",
              "      <td>Host Has Profile Pic,Host Identity Verified,Is...</td>\n",
              "    </tr>\n",
              "    <tr>\n",
              "      <th>13997</th>\n",
              "      <td>799569</td>\n",
              "      <td>https://www.airbnb.com/rooms/799569</td>\n",
              "      <td>20170407214119</td>\n",
              "      <td>2017-04-08</td>\n",
              "      <td>PENTHOUSE/TERRACE, THE CITY CENTER</td>\n",
              "      <td>A charming and beautiful 2 independents bedroo...</td>\n",
              "      <td>A charming and beautiful 2 bedroom attic The a...</td>\n",
              "      <td>A charming and beautiful 2 independents bedroo...</td>\n",
              "      <td>none</td>\n",
              "      <td>Malasaña is considered the Bohemian district M...</td>\n",
              "      <td>...</td>\n",
              "      <td>10.0</td>\n",
              "      <td>10.0</td>\n",
              "      <td>9.0</td>\n",
              "      <td>NaN</td>\n",
              "      <td>NaN</td>\n",
              "      <td>strict</td>\n",
              "      <td>2</td>\n",
              "      <td>2.40</td>\n",
              "      <td>40.42579998148187,-3.7040803907189943</td>\n",
              "      <td>Host Has Profile Pic,Is Location Exact,Require...</td>\n",
              "    </tr>\n",
              "    <tr>\n",
              "      <th>13998</th>\n",
              "      <td>15542212</td>\n",
              "      <td>https://www.airbnb.com/rooms/15542212</td>\n",
              "      <td>20170407214119</td>\n",
              "      <td>2017-04-08</td>\n",
              "      <td>Cozy &amp; Centric 1BD - Conde Duque</td>\n",
              "      <td>Calm and confortable apartment. Totally renewe...</td>\n",
              "      <td>Calm and confortable apartment. Totally renewe...</td>\n",
              "      <td>Calm and confortable apartment. Totally renewe...</td>\n",
              "      <td>none</td>\n",
              "      <td>Conde Duque is a dynamic and central neighborh...</td>\n",
              "      <td>...</td>\n",
              "      <td>10.0</td>\n",
              "      <td>10.0</td>\n",
              "      <td>9.0</td>\n",
              "      <td>NaN</td>\n",
              "      <td>NaN</td>\n",
              "      <td>flexible</td>\n",
              "      <td>1</td>\n",
              "      <td>0.94</td>\n",
              "      <td>40.42616571464884,-3.7077944204488813</td>\n",
              "      <td>Host Has Profile Pic,Host Identity Verified,Is...</td>\n",
              "    </tr>\n",
              "    <tr>\n",
              "      <th>13999</th>\n",
              "      <td>14725727</td>\n",
              "      <td>https://www.airbnb.com/rooms/14725727</td>\n",
              "      <td>20170407214119</td>\n",
              "      <td>2017-04-08</td>\n",
              "      <td>Room near Madrid downtown</td>\n",
              "      <td>Highlight Places: Plaza España, Conde Duque Cu...</td>\n",
              "      <td>It is well located for access to central touri...</td>\n",
              "      <td>Highlight Places: Plaza España, Conde Duque Cu...</td>\n",
              "      <td>none</td>\n",
              "      <td>The neighborhood has many shops (Zara, El Cort...</td>\n",
              "      <td>...</td>\n",
              "      <td>10.0</td>\n",
              "      <td>10.0</td>\n",
              "      <td>10.0</td>\n",
              "      <td>NaN</td>\n",
              "      <td>NaN</td>\n",
              "      <td>flexible</td>\n",
              "      <td>1</td>\n",
              "      <td>3.28</td>\n",
              "      <td>40.43017745149435,-3.71326014626314</td>\n",
              "      <td>Host Is Superhost,Host Has Profile Pic,Host Id...</td>\n",
              "    </tr>\n",
              "    <tr>\n",
              "      <th>14000</th>\n",
              "      <td>18107783</td>\n",
              "      <td>https://www.airbnb.com/rooms/18107783</td>\n",
              "      <td>20170407214050</td>\n",
              "      <td>2017-04-08</td>\n",
              "      <td>Luxury Apt 3BD in Barcelona!</td>\n",
              "      <td>*PLEASE DO NOT INSTANT BOOK before you contact...</td>\n",
              "      <td>NaN</td>\n",
              "      <td>*PLEASE DO NOT INSTANT BOOK before you contact...</td>\n",
              "      <td>none</td>\n",
              "      <td>NaN</td>\n",
              "      <td>...</td>\n",
              "      <td>NaN</td>\n",
              "      <td>NaN</td>\n",
              "      <td>NaN</td>\n",
              "      <td>NaN</td>\n",
              "      <td>NaN</td>\n",
              "      <td>flexible</td>\n",
              "      <td>1</td>\n",
              "      <td>NaN</td>\n",
              "      <td>41.385680758683485,2.175755668563987</td>\n",
              "      <td>Host Has Profile Pic,Host Identity Verified,Is...</td>\n",
              "    </tr>\n",
              "  </tbody>\n",
              "</table>\n",
              "<p>13990 rows × 89 columns</p>\n",
              "</div>\n",
              "    <div class=\"colab-df-buttons\">\n",
              "\n",
              "  <div class=\"colab-df-container\">\n",
              "    <button class=\"colab-df-convert\" onclick=\"convertToInteractive('df-945aed62-2293-42ae-87bc-d207a6acdfcf')\"\n",
              "            title=\"Convert this dataframe to an interactive table.\"\n",
              "            style=\"display:none;\">\n",
              "\n",
              "  <svg xmlns=\"http://www.w3.org/2000/svg\" height=\"24px\" viewBox=\"0 -960 960 960\">\n",
              "    <path d=\"M120-120v-720h720v720H120Zm60-500h600v-160H180v160Zm220 220h160v-160H400v160Zm0 220h160v-160H400v160ZM180-400h160v-160H180v160Zm440 0h160v-160H620v160ZM180-180h160v-160H180v160Zm440 0h160v-160H620v160Z\"/>\n",
              "  </svg>\n",
              "    </button>\n",
              "\n",
              "  <style>\n",
              "    .colab-df-container {\n",
              "      display:flex;\n",
              "      gap: 12px;\n",
              "    }\n",
              "\n",
              "    .colab-df-convert {\n",
              "      background-color: #E8F0FE;\n",
              "      border: none;\n",
              "      border-radius: 50%;\n",
              "      cursor: pointer;\n",
              "      display: none;\n",
              "      fill: #1967D2;\n",
              "      height: 32px;\n",
              "      padding: 0 0 0 0;\n",
              "      width: 32px;\n",
              "    }\n",
              "\n",
              "    .colab-df-convert:hover {\n",
              "      background-color: #E2EBFA;\n",
              "      box-shadow: 0px 1px 2px rgba(60, 64, 67, 0.3), 0px 1px 3px 1px rgba(60, 64, 67, 0.15);\n",
              "      fill: #174EA6;\n",
              "    }\n",
              "\n",
              "    .colab-df-buttons div {\n",
              "      margin-bottom: 4px;\n",
              "    }\n",
              "\n",
              "    [theme=dark] .colab-df-convert {\n",
              "      background-color: #3B4455;\n",
              "      fill: #D2E3FC;\n",
              "    }\n",
              "\n",
              "    [theme=dark] .colab-df-convert:hover {\n",
              "      background-color: #434B5C;\n",
              "      box-shadow: 0px 1px 3px 1px rgba(0, 0, 0, 0.15);\n",
              "      filter: drop-shadow(0px 1px 2px rgba(0, 0, 0, 0.3));\n",
              "      fill: #FFFFFF;\n",
              "    }\n",
              "  </style>\n",
              "\n",
              "    <script>\n",
              "      const buttonEl =\n",
              "        document.querySelector('#df-945aed62-2293-42ae-87bc-d207a6acdfcf button.colab-df-convert');\n",
              "      buttonEl.style.display =\n",
              "        google.colab.kernel.accessAllowed ? 'block' : 'none';\n",
              "\n",
              "      async function convertToInteractive(key) {\n",
              "        const element = document.querySelector('#df-945aed62-2293-42ae-87bc-d207a6acdfcf');\n",
              "        const dataTable =\n",
              "          await google.colab.kernel.invokeFunction('convertToInteractive',\n",
              "                                                    [key], {});\n",
              "        if (!dataTable) return;\n",
              "\n",
              "        const docLinkHtml = 'Like what you see? Visit the ' +\n",
              "          '<a target=\"_blank\" href=https://colab.research.google.com/notebooks/data_table.ipynb>data table notebook</a>'\n",
              "          + ' to learn more about interactive tables.';\n",
              "        element.innerHTML = '';\n",
              "        dataTable['output_type'] = 'display_data';\n",
              "        await google.colab.output.renderOutput(dataTable, element);\n",
              "        const docLink = document.createElement('div');\n",
              "        docLink.innerHTML = docLinkHtml;\n",
              "        element.appendChild(docLink);\n",
              "      }\n",
              "    </script>\n",
              "  </div>\n",
              "\n",
              "\n",
              "<div id=\"df-5f1b9ab5-b5bc-49e0-9f50-49711af7fc95\">\n",
              "  <button class=\"colab-df-quickchart\" onclick=\"quickchart('df-5f1b9ab5-b5bc-49e0-9f50-49711af7fc95')\"\n",
              "            title=\"Suggest charts\"\n",
              "            style=\"display:none;\">\n",
              "\n",
              "<svg xmlns=\"http://www.w3.org/2000/svg\" height=\"24px\"viewBox=\"0 0 24 24\"\n",
              "     width=\"24px\">\n",
              "    <g>\n",
              "        <path d=\"M19 3H5c-1.1 0-2 .9-2 2v14c0 1.1.9 2 2 2h14c1.1 0 2-.9 2-2V5c0-1.1-.9-2-2-2zM9 17H7v-7h2v7zm4 0h-2V7h2v10zm4 0h-2v-4h2v4z\"/>\n",
              "    </g>\n",
              "</svg>\n",
              "  </button>\n",
              "\n",
              "<style>\n",
              "  .colab-df-quickchart {\n",
              "      --bg-color: #E8F0FE;\n",
              "      --fill-color: #1967D2;\n",
              "      --hover-bg-color: #E2EBFA;\n",
              "      --hover-fill-color: #174EA6;\n",
              "      --disabled-fill-color: #AAA;\n",
              "      --disabled-bg-color: #DDD;\n",
              "  }\n",
              "\n",
              "  [theme=dark] .colab-df-quickchart {\n",
              "      --bg-color: #3B4455;\n",
              "      --fill-color: #D2E3FC;\n",
              "      --hover-bg-color: #434B5C;\n",
              "      --hover-fill-color: #FFFFFF;\n",
              "      --disabled-bg-color: #3B4455;\n",
              "      --disabled-fill-color: #666;\n",
              "  }\n",
              "\n",
              "  .colab-df-quickchart {\n",
              "    background-color: var(--bg-color);\n",
              "    border: none;\n",
              "    border-radius: 50%;\n",
              "    cursor: pointer;\n",
              "    display: none;\n",
              "    fill: var(--fill-color);\n",
              "    height: 32px;\n",
              "    padding: 0;\n",
              "    width: 32px;\n",
              "  }\n",
              "\n",
              "  .colab-df-quickchart:hover {\n",
              "    background-color: var(--hover-bg-color);\n",
              "    box-shadow: 0 1px 2px rgba(60, 64, 67, 0.3), 0 1px 3px 1px rgba(60, 64, 67, 0.15);\n",
              "    fill: var(--button-hover-fill-color);\n",
              "  }\n",
              "\n",
              "  .colab-df-quickchart-complete:disabled,\n",
              "  .colab-df-quickchart-complete:disabled:hover {\n",
              "    background-color: var(--disabled-bg-color);\n",
              "    fill: var(--disabled-fill-color);\n",
              "    box-shadow: none;\n",
              "  }\n",
              "\n",
              "  .colab-df-spinner {\n",
              "    border: 2px solid var(--fill-color);\n",
              "    border-color: transparent;\n",
              "    border-bottom-color: var(--fill-color);\n",
              "    animation:\n",
              "      spin 1s steps(1) infinite;\n",
              "  }\n",
              "\n",
              "  @keyframes spin {\n",
              "    0% {\n",
              "      border-color: transparent;\n",
              "      border-bottom-color: var(--fill-color);\n",
              "      border-left-color: var(--fill-color);\n",
              "    }\n",
              "    20% {\n",
              "      border-color: transparent;\n",
              "      border-left-color: var(--fill-color);\n",
              "      border-top-color: var(--fill-color);\n",
              "    }\n",
              "    30% {\n",
              "      border-color: transparent;\n",
              "      border-left-color: var(--fill-color);\n",
              "      border-top-color: var(--fill-color);\n",
              "      border-right-color: var(--fill-color);\n",
              "    }\n",
              "    40% {\n",
              "      border-color: transparent;\n",
              "      border-right-color: var(--fill-color);\n",
              "      border-top-color: var(--fill-color);\n",
              "    }\n",
              "    60% {\n",
              "      border-color: transparent;\n",
              "      border-right-color: var(--fill-color);\n",
              "    }\n",
              "    80% {\n",
              "      border-color: transparent;\n",
              "      border-right-color: var(--fill-color);\n",
              "      border-bottom-color: var(--fill-color);\n",
              "    }\n",
              "    90% {\n",
              "      border-color: transparent;\n",
              "      border-bottom-color: var(--fill-color);\n",
              "    }\n",
              "  }\n",
              "</style>\n",
              "\n",
              "  <script>\n",
              "    async function quickchart(key) {\n",
              "      const quickchartButtonEl =\n",
              "        document.querySelector('#' + key + ' button');\n",
              "      quickchartButtonEl.disabled = true;  // To prevent multiple clicks.\n",
              "      quickchartButtonEl.classList.add('colab-df-spinner');\n",
              "      try {\n",
              "        const charts = await google.colab.kernel.invokeFunction(\n",
              "            'suggestCharts', [key], {});\n",
              "      } catch (error) {\n",
              "        console.error('Error during call to suggestCharts:', error);\n",
              "      }\n",
              "      quickchartButtonEl.classList.remove('colab-df-spinner');\n",
              "      quickchartButtonEl.classList.add('colab-df-quickchart-complete');\n",
              "    }\n",
              "    (() => {\n",
              "      let quickchartButtonEl =\n",
              "        document.querySelector('#df-5f1b9ab5-b5bc-49e0-9f50-49711af7fc95 button');\n",
              "      quickchartButtonEl.style.display =\n",
              "        google.colab.kernel.accessAllowed ? 'block' : 'none';\n",
              "    })();\n",
              "  </script>\n",
              "</div>\n",
              "    </div>\n",
              "  </div>\n"
            ],
            "application/vnd.google.colaboratory.intrinsic+json": {
              "type": "dataframe",
              "variable_name": "data"
            }
          },
          "metadata": {},
          "execution_count": 12
        }
      ]
    },
    {
      "cell_type": "markdown",
      "source": [
        "**Descarga de imágenes**"
      ],
      "metadata": {
        "id": "T1P7PLQOCPBe"
      }
    },
    {
      "cell_type": "code",
      "source": [
        "def download_images(paths: list,\n",
        "                    canvas: tuple = (224, 224),\n",
        "                    nb_channels: int = 3,\n",
        "                    max_imgs: Optional[int] = 3000\n",
        "                    ) -> tuple:\n",
        "  \"\"\" Download a list of images from url adresses, converting them to a specific\n",
        "  canvas size.\n",
        "\n",
        "  Args:\n",
        "    paths: Paths or url adresses from which to load images.\n",
        "    canvas: Desired image width and height.\n",
        "    nb_channels: Channels in images (1 for B/W, 3 for RGB).\n",
        "    max_imgs: Upper threshold in the number of images to download.\n",
        "\n",
        "  Return:\n",
        "    a tuple of:\n",
        "      - image values\n",
        "      - indices within the paths that were successfull.\n",
        "\n",
        "  \"\"\"\n",
        "  n_images = len(paths) if not max_imgs else max_imgs\n",
        "  images = numpy.zeros((n_images, canvas[0], canvas[1], nb_channels),\n",
        "                       dtype=numpy.uint8)\n",
        "  downloaded_idxs = []\n",
        "\n",
        "  for i_img, url in enumerate(tqdm(paths, total=n_images)):\n",
        "    if i_img >= n_images:\n",
        "      break\n",
        "    try:\n",
        "        img = io.imread(url)\n",
        "        img = cv2.resize(img, (canvas[0], canvas[1]))\n",
        "        downloaded_idxs.append(i_img)\n",
        "        images[i_img] = img\n",
        "    except (IOError, ValueError) as e:  # Unavailable url / conversion error\n",
        "        pass\n",
        "  return images[downloaded_idxs], downloaded_idxs"
      ],
      "metadata": {
        "id": "2ht0sAwbCSvB"
      },
      "execution_count": null,
      "outputs": []
    },
    {
      "cell_type": "code",
      "source": [
        "images, idxs = download_images(data['Thumbnail Url'], max_imgs=3000)\n",
        "images = images.astype(\"float32\") / 255.\n",
        "images.shape"
      ],
      "metadata": {
        "colab": {
          "base_uri": "https://localhost:8080/",
          "height": 176
        },
        "id": "6xxKg_OdCjtl",
        "outputId": "641ec300-47a0-4606-bfc4-b8d2e4589785"
      },
      "execution_count": null,
      "outputs": [
        {
          "output_type": "error",
          "ename": "NameError",
          "evalue": "name 'download_images' is not defined",
          "traceback": [
            "\u001b[0;31m---------------------------------------------------------------------------\u001b[0m",
            "\u001b[0;31mNameError\u001b[0m                                 Traceback (most recent call last)",
            "\u001b[0;32m<ipython-input-13-0e73bd26f746>\u001b[0m in \u001b[0;36m<cell line: 1>\u001b[0;34m()\u001b[0m\n\u001b[0;32m----> 1\u001b[0;31m \u001b[0mimages\u001b[0m\u001b[0;34m,\u001b[0m \u001b[0midxs\u001b[0m \u001b[0;34m=\u001b[0m \u001b[0mdownload_images\u001b[0m\u001b[0;34m(\u001b[0m\u001b[0mdata\u001b[0m\u001b[0;34m[\u001b[0m\u001b[0;34m'Thumbnail Url'\u001b[0m\u001b[0;34m]\u001b[0m\u001b[0;34m,\u001b[0m \u001b[0mmax_imgs\u001b[0m\u001b[0;34m=\u001b[0m\u001b[0;36m3000\u001b[0m\u001b[0;34m)\u001b[0m\u001b[0;34m\u001b[0m\u001b[0;34m\u001b[0m\u001b[0m\n\u001b[0m\u001b[1;32m      2\u001b[0m \u001b[0mimages\u001b[0m \u001b[0;34m=\u001b[0m \u001b[0mimages\u001b[0m\u001b[0;34m.\u001b[0m\u001b[0mastype\u001b[0m\u001b[0;34m(\u001b[0m\u001b[0;34m\"float32\"\u001b[0m\u001b[0;34m)\u001b[0m \u001b[0;34m/\u001b[0m \u001b[0;36m255.\u001b[0m\u001b[0;34m\u001b[0m\u001b[0;34m\u001b[0m\u001b[0m\n\u001b[1;32m      3\u001b[0m \u001b[0mimages\u001b[0m\u001b[0;34m.\u001b[0m\u001b[0mshape\u001b[0m\u001b[0;34m\u001b[0m\u001b[0;34m\u001b[0m\u001b[0m\n",
            "\u001b[0;31mNameError\u001b[0m: name 'download_images' is not defined"
          ]
        }
      ]
    },
    {
      "cell_type": "markdown",
      "source": [
        "Descarga de las imagenes,cirterio de la practica, marcamos un maximo de 3000 imagenes , para optimaz tiempo y recursos. al final si salen datos consistentes"
      ],
      "metadata": {
        "id": "yjmX18hPEpl_"
      }
    },
    {
      "cell_type": "code",
      "source": [
        "filtered_data = data.iloc[idxs]\n",
        "filtered_data\n",
        "data.head(5)"
      ],
      "metadata": {
        "id": "GYW4Cl5cEle5",
        "colab": {
          "base_uri": "https://localhost:8080/",
          "height": 176
        },
        "outputId": "de6b8b3e-fa39-41cc-a5c4-7be6baa42589"
      },
      "execution_count": 2,
      "outputs": [
        {
          "output_type": "error",
          "ename": "NameError",
          "evalue": "name 'data' is not defined",
          "traceback": [
            "\u001b[0;31m---------------------------------------------------------------------------\u001b[0m",
            "\u001b[0;31mNameError\u001b[0m                                 Traceback (most recent call last)",
            "\u001b[0;32m<ipython-input-2-aacb6244bf05>\u001b[0m in \u001b[0;36m<cell line: 1>\u001b[0;34m()\u001b[0m\n\u001b[0;32m----> 1\u001b[0;31m \u001b[0mfiltered_data\u001b[0m \u001b[0;34m=\u001b[0m \u001b[0mdata\u001b[0m\u001b[0;34m.\u001b[0m\u001b[0miloc\u001b[0m\u001b[0;34m[\u001b[0m\u001b[0midxs\u001b[0m\u001b[0;34m]\u001b[0m\u001b[0;34m\u001b[0m\u001b[0;34m\u001b[0m\u001b[0m\n\u001b[0m\u001b[1;32m      2\u001b[0m \u001b[0mfiltered_data\u001b[0m\u001b[0;34m\u001b[0m\u001b[0;34m\u001b[0m\u001b[0m\n\u001b[1;32m      3\u001b[0m \u001b[0mdata\u001b[0m\u001b[0;34m.\u001b[0m\u001b[0mhead\u001b[0m\u001b[0;34m(\u001b[0m\u001b[0;36m5\u001b[0m\u001b[0;34m)\u001b[0m\u001b[0;34m\u001b[0m\u001b[0;34m\u001b[0m\u001b[0m\n",
            "\u001b[0;31mNameError\u001b[0m: name 'data' is not defined"
          ]
        }
      ]
    },
    {
      "cell_type": "code",
      "source": [
        "images.shape , data.shape"
      ],
      "metadata": {
        "id": "t3C7Q9nnGStK",
        "colab": {
          "base_uri": "https://localhost:8080/",
          "height": 141
        },
        "outputId": "c1bb1f94-c2b5-43a7-cc53-19a1662885eb"
      },
      "execution_count": null,
      "outputs": [
        {
          "output_type": "error",
          "ename": "NameError",
          "evalue": "name 'images' is not defined",
          "traceback": [
            "\u001b[0;31m---------------------------------------------------------------------------\u001b[0m",
            "\u001b[0;31mNameError\u001b[0m                                 Traceback (most recent call last)",
            "\u001b[0;32m<ipython-input-15-eaba1559ece0>\u001b[0m in \u001b[0;36m<cell line: 1>\u001b[0;34m()\u001b[0m\n\u001b[0;32m----> 1\u001b[0;31m \u001b[0mimages\u001b[0m\u001b[0;34m.\u001b[0m\u001b[0mshape\u001b[0m \u001b[0;34m,\u001b[0m \u001b[0mdata\u001b[0m\u001b[0;34m.\u001b[0m\u001b[0mshape\u001b[0m\u001b[0;34m\u001b[0m\u001b[0;34m\u001b[0m\u001b[0m\n\u001b[0m",
            "\u001b[0;31mNameError\u001b[0m: name 'images' is not defined"
          ]
        }
      ]
    },
    {
      "cell_type": "markdown",
      "source": [
        "Guardamos los datos para su posterior uso /selección"
      ],
      "metadata": {
        "id": "fF50FCVBGfif"
      }
    },
    {
      "cell_type": "code",
      "source": [
        "numpy.save('images.npy', images)\n",
        "filtered_data.to_csv('filtered_data.csv', sep=';', index=False)"
      ],
      "metadata": {
        "id": "wYGauRR_GTvc"
      },
      "execution_count": null,
      "outputs": []
    },
    {
      "cell_type": "code",
      "source": [
        "!cp images.npy /content/drive/MyDrive/images_final.npy\n",
        "!cp filtered_data.csv /content/drive/MyDrive/filtered_data.csv\n",
        "\n",
        "!ls -lah images* filtered*  # Comprobación"
      ],
      "metadata": {
        "id": "90apxo0ZGt6l",
        "colab": {
          "base_uri": "https://localhost:8080/"
        },
        "outputId": "17084df6-c820-49eb-d5f5-11c55802ec53"
      },
      "execution_count": 3,
      "outputs": [
        {
          "output_type": "stream",
          "name": "stdout",
          "text": [
            "cp: cannot stat 'images.npy': No such file or directory\n",
            "cp: cannot stat 'filtered_data.csv': No such file or directory\n",
            "ls: cannot access 'images*': No such file or directory\n",
            "ls: cannot access 'filtered*': No such file or directory\n"
          ]
        }
      ]
    },
    {
      "cell_type": "code",
      "source": [
        "# Comprobamos a abrirlos de nuevo\n",
        "df = pandas.read_csv(\"/content/drive/MyDrive/filtered_data.csv\", sep=';')\n",
        "images = numpy.load(\"/content/drive/MyDrive/images_final.npy\")\n",
        "df.shape, images.shape"
      ],
      "metadata": {
        "id": "z0lksWDBGu9t",
        "colab": {
          "base_uri": "https://localhost:8080/"
        },
        "outputId": "5f2140d0-5ad1-4bbb-daef-6b1430944565"
      },
      "execution_count": 2,
      "outputs": [
        {
          "output_type": "execute_result",
          "data": {
            "text/plain": [
              "((1861, 89), (1861, 224, 224, 3))"
            ]
          },
          "metadata": {},
          "execution_count": 2
        }
      ]
    },
    {
      "cell_type": "markdown",
      "source": [
        "#Procesamiento de datos\n",
        "\n",
        "### Selección de Columnas:\n",
        "\n",
        "- Se define una lista `columns_to_keep` que especifica las columnas relevantes a conservar en el DataFrame `df`.\n",
        "- El DataFrame se filtra para mantener solo estas columnas.\n",
        "\n",
        "### Limpieza de Valores Nulos:\n",
        "\n",
        "- Se calcula la suma de valores nulos por columna usando `df.isnull().sum(axis=0)` para identificar las columnas con valores faltantes.\n",
        "- Para las columnas `Bathrooms`, `Bedrooms`, `Beds`, y `Price`, se rellenan los valores nulos con la moda (el valor más frecuente) de cada columna respectiva.\n",
        "- Finalmente, se elimina cualquier fila que todavía contenga valores nulos con `df.dropna()`, lo que podría referirse a otras columnas no especificadas aquí.\n",
        "\n",
        "### Codificación de Variables Categóricas:\n",
        "\n",
        "- Se identifican las variables categóricas `Property Type`, `Room Type`, y `Bed Type`.\n",
        "- Se utiliza `LabelEncoder` de scikit-learn para transformar estas variables categóricas en valores numéricos. Esto es útil para modelos de machine learning que requieren entradas numéricas.\n",
        "- `LabelEncoder` se ajusta a cada una de las columnas categóricas mencionadas y luego se utiliza para transformar sus valores en el DataFrame `df`.\n",
        "\n",
        "### Visualización del DataFrame:\n",
        "\n",
        "- Se muestra la transposición del DataFrame `df` (`.T`) para los primeros 5 registros con `df.head().T`, proporcionando una vista rápida de las transformaciones aplicadas a las columnas seleccionadas.\n"
      ],
      "metadata": {
        "id": "uCwKqkDdMJaU"
      }
    },
    {
      "cell_type": "code",
      "source": [
        "def drop_colums_dataframe(df, drop_colums):\n",
        "\n",
        "    df = df.drop(drop_colums, axis=1)\n",
        "\n",
        "    return df"
      ],
      "metadata": {
        "id": "GaYMqJpsMWXw"
      },
      "execution_count": 3,
      "outputs": []
    },
    {
      "cell_type": "code",
      "source": [
        "df.info()"
      ],
      "metadata": {
        "colab": {
          "base_uri": "https://localhost:8080/"
        },
        "id": "5SFQVJEA0KOs",
        "outputId": "bc67cb40-706f-4994-adf3-bf79deaecbd1"
      },
      "execution_count": 4,
      "outputs": [
        {
          "output_type": "stream",
          "name": "stdout",
          "text": [
            "<class 'pandas.core.frame.DataFrame'>\n",
            "RangeIndex: 1861 entries, 0 to 1860\n",
            "Data columns (total 89 columns):\n",
            " #   Column                          Non-Null Count  Dtype  \n",
            "---  ------                          --------------  -----  \n",
            " 0   ID                              1861 non-null   int64  \n",
            " 1   Listing Url                     1861 non-null   object \n",
            " 2   Scrape ID                       1861 non-null   int64  \n",
            " 3   Last Scraped                    1861 non-null   object \n",
            " 4   Name                            1861 non-null   object \n",
            " 5   Summary                         1788 non-null   object \n",
            " 6   Space                           1369 non-null   object \n",
            " 7   Description                     1860 non-null   object \n",
            " 8   Experiences Offered             1861 non-null   object \n",
            " 9   Neighborhood Overview           1162 non-null   object \n",
            " 10  Notes                           664 non-null    object \n",
            " 11  Transit                         1156 non-null   object \n",
            " 12  Access                          1053 non-null   object \n",
            " 13  Interaction                     1026 non-null   object \n",
            " 14  House Rules                     1181 non-null   object \n",
            " 15  Thumbnail Url                   1861 non-null   object \n",
            " 16  Medium Url                      1861 non-null   object \n",
            " 17  Picture Url                     0 non-null      float64\n",
            " 18  XL Picture Url                  1861 non-null   object \n",
            " 19  Host ID                         1861 non-null   int64  \n",
            " 20  Host URL                        1861 non-null   object \n",
            " 21  Host Name                       1859 non-null   object \n",
            " 22  Host Since                      1859 non-null   object \n",
            " 23  Host Location                   1851 non-null   object \n",
            " 24  Host About                      1158 non-null   object \n",
            " 25  Host Response Time              1614 non-null   object \n",
            " 26  Host Response Rate              1614 non-null   float64\n",
            " 27  Host Acceptance Rate            0 non-null      float64\n",
            " 28  Host Thumbnail Url              1859 non-null   object \n",
            " 29  Host Picture Url                1859 non-null   object \n",
            " 30  Host Neighbourhood              1372 non-null   object \n",
            " 31  Host Listings Count             1859 non-null   float64\n",
            " 32  Host Total Listings Count       1859 non-null   float64\n",
            " 33  Host Verifications              1860 non-null   object \n",
            " 34  Street                          1861 non-null   object \n",
            " 35  Neighbourhood                   1217 non-null   object \n",
            " 36  Neighbourhood Cleansed          1861 non-null   object \n",
            " 37  Neighbourhood Group Cleansed    1833 non-null   object \n",
            " 38  City                            1861 non-null   object \n",
            " 39  State                           1854 non-null   object \n",
            " 40  Zipcode                         1793 non-null   object \n",
            " 41  Market                          1852 non-null   object \n",
            " 42  Smart Location                  1861 non-null   object \n",
            " 43  Country Code                    1861 non-null   object \n",
            " 44  Country                         1861 non-null   object \n",
            " 45  Latitude                        1861 non-null   float64\n",
            " 46  Longitude                       1861 non-null   float64\n",
            " 47  Property Type                   1861 non-null   object \n",
            " 48  Room Type                       1861 non-null   object \n",
            " 49  Accommodates                    1861 non-null   int64  \n",
            " 50  Bathrooms                       1848 non-null   float64\n",
            " 51  Bedrooms                        1858 non-null   float64\n",
            " 52  Beds                            1850 non-null   float64\n",
            " 53  Bed Type                        1861 non-null   object \n",
            " 54  Amenities                       1829 non-null   object \n",
            " 55  Square Feet                     64 non-null     float64\n",
            " 56  Price                           1861 non-null   float64\n",
            " 57  Weekly Price                    445 non-null    float64\n",
            " 58  Monthly Price                   418 non-null    float64\n",
            " 59  Security Deposit                794 non-null    float64\n",
            " 60  Cleaning Fee                    1057 non-null   float64\n",
            " 61  Guests Included                 1861 non-null   int64  \n",
            " 62  Extra People                    1861 non-null   int64  \n",
            " 63  Minimum Nights                  1861 non-null   int64  \n",
            " 64  Maximum Nights                  1861 non-null   int64  \n",
            " 65  Calendar Updated                1861 non-null   object \n",
            " 66  Has Availability                0 non-null      float64\n",
            " 67  Availability 30                 1861 non-null   int64  \n",
            " 68  Availability 60                 1861 non-null   int64  \n",
            " 69  Availability 90                 1861 non-null   int64  \n",
            " 70  Availability 365                1861 non-null   int64  \n",
            " 71  Calendar last Scraped           1861 non-null   object \n",
            " 72  Number of Reviews               1861 non-null   int64  \n",
            " 73  First Review                    1480 non-null   object \n",
            " 74  Last Review                     1480 non-null   object \n",
            " 75  Review Scores Rating            1459 non-null   float64\n",
            " 76  Review Scores Accuracy          1456 non-null   float64\n",
            " 77  Review Scores Cleanliness       1457 non-null   float64\n",
            " 78  Review Scores Checkin           1455 non-null   float64\n",
            " 79  Review Scores Communication     1457 non-null   float64\n",
            " 80  Review Scores Location          1456 non-null   float64\n",
            " 81  Review Scores Value             1456 non-null   float64\n",
            " 82  License                         33 non-null     object \n",
            " 83  Jurisdiction Names              0 non-null      float64\n",
            " 84  Cancellation Policy             1861 non-null   object \n",
            " 85  Calculated host listings count  1861 non-null   int64  \n",
            " 86  Reviews per Month               1480 non-null   float64\n",
            " 87  Geolocation                     1861 non-null   object \n",
            " 88  Features                        1861 non-null   object \n",
            "dtypes: float64(26), int64(14), object(49)\n",
            "memory usage: 1.3+ MB\n"
          ]
        }
      ]
    },
    {
      "cell_type": "code",
      "source": [
        "    columns_to_keep = ['Property Type', 'Room Type', 'Bathrooms',\n",
        "                       'Bedrooms', 'Beds', 'Bed Type','Price',\n",
        "                       'Minimum Nights', 'Availability 30', 'Number of Reviews',\n",
        "                      'Guests Included']\n",
        "\n",
        "    # Solo conserva las columnas definidas en 'columns_to_keep'\n",
        "    df = df[columns_to_keep]"
      ],
      "metadata": {
        "id": "d8oKYklz0ppR"
      },
      "execution_count": 5,
      "outputs": []
    },
    {
      "cell_type": "code",
      "source": [
        "df.info()"
      ],
      "metadata": {
        "colab": {
          "base_uri": "https://localhost:8080/"
        },
        "id": "az5l2Fm90xVz",
        "outputId": "36321fc1-a9c2-48c4-a63d-e4ecf8715494"
      },
      "execution_count": 6,
      "outputs": [
        {
          "output_type": "stream",
          "name": "stdout",
          "text": [
            "<class 'pandas.core.frame.DataFrame'>\n",
            "RangeIndex: 1861 entries, 0 to 1860\n",
            "Data columns (total 11 columns):\n",
            " #   Column             Non-Null Count  Dtype  \n",
            "---  ------             --------------  -----  \n",
            " 0   Property Type      1861 non-null   object \n",
            " 1   Room Type          1861 non-null   object \n",
            " 2   Bathrooms          1848 non-null   float64\n",
            " 3   Bedrooms           1858 non-null   float64\n",
            " 4   Beds               1850 non-null   float64\n",
            " 5   Bed Type           1861 non-null   object \n",
            " 6   Price              1861 non-null   float64\n",
            " 7   Minimum Nights     1861 non-null   int64  \n",
            " 8   Availability 30    1861 non-null   int64  \n",
            " 9   Number of Reviews  1861 non-null   int64  \n",
            " 10  Guests Included    1861 non-null   int64  \n",
            "dtypes: float64(4), int64(4), object(3)\n",
            "memory usage: 160.1+ KB\n"
          ]
        }
      ]
    },
    {
      "cell_type": "code",
      "source": [
        "df.isnull().sum(axis=0)"
      ],
      "metadata": {
        "colab": {
          "base_uri": "https://localhost:8080/"
        },
        "id": "QL2pgx0s1Z2Q",
        "outputId": "c2514fcf-97a8-4477-92cb-bed02592a311"
      },
      "execution_count": 7,
      "outputs": [
        {
          "output_type": "execute_result",
          "data": {
            "text/plain": [
              "Property Type         0\n",
              "Room Type             0\n",
              "Bathrooms            13\n",
              "Bedrooms              3\n",
              "Beds                 11\n",
              "Bed Type              0\n",
              "Price                 0\n",
              "Minimum Nights        0\n",
              "Availability 30       0\n",
              "Number of Reviews     0\n",
              "Guests Included       0\n",
              "dtype: int64"
            ]
          },
          "metadata": {},
          "execution_count": 7
        }
      ]
    },
    {
      "cell_type": "code",
      "source": [
        "#Las variables que contienen NaN vamos a utilizar la moda para inicializarlos\n",
        "df = df.fillna(value={\"Bathrooms\":df[\"Bathrooms\"].mode()[0]})\n",
        "df = df.fillna(value={\"Bedrooms\":df[\"Bedrooms\"].mode()[0]})\n",
        "df = df.fillna(value={\"Beds\":df[\"Beds\"].mode()[0]})\n",
        "df = df.fillna(value={\"Price\":df[\"Price\"].mode()[0]})\n",
        "\n",
        "#las que no tienen imagen las eliminamos tambien\n",
        "df = df.dropna()"
      ],
      "metadata": {
        "id": "xGz480yT1iwk"
      },
      "execution_count": 8,
      "outputs": []
    },
    {
      "cell_type": "code",
      "source": [
        "df.isnull().sum(axis=0)"
      ],
      "metadata": {
        "colab": {
          "base_uri": "https://localhost:8080/"
        },
        "id": "Q3z02Vwc1xne",
        "outputId": "74307924-d352-4cf8-e278-5accd3f278b4"
      },
      "execution_count": 9,
      "outputs": [
        {
          "output_type": "execute_result",
          "data": {
            "text/plain": [
              "Property Type        0\n",
              "Room Type            0\n",
              "Bathrooms            0\n",
              "Bedrooms             0\n",
              "Beds                 0\n",
              "Bed Type             0\n",
              "Price                0\n",
              "Minimum Nights       0\n",
              "Availability 30      0\n",
              "Number of Reviews    0\n",
              "Guests Included      0\n",
              "dtype: int64"
            ]
          },
          "metadata": {},
          "execution_count": 9
        }
      ]
    },
    {
      "cell_type": "code",
      "source": [
        "df.info()\n",
        "#df.head(5)\n",
        "#print(data['Minimum Nights'].describe())"
      ],
      "metadata": {
        "colab": {
          "base_uri": "https://localhost:8080/"
        },
        "id": "fvWOsulB10Z7",
        "outputId": "bfb7c277-28a6-410e-db55-3bd3c114f97d"
      },
      "execution_count": 10,
      "outputs": [
        {
          "output_type": "stream",
          "name": "stdout",
          "text": [
            "<class 'pandas.core.frame.DataFrame'>\n",
            "RangeIndex: 1861 entries, 0 to 1860\n",
            "Data columns (total 11 columns):\n",
            " #   Column             Non-Null Count  Dtype  \n",
            "---  ------             --------------  -----  \n",
            " 0   Property Type      1861 non-null   object \n",
            " 1   Room Type          1861 non-null   object \n",
            " 2   Bathrooms          1861 non-null   float64\n",
            " 3   Bedrooms           1861 non-null   float64\n",
            " 4   Beds               1861 non-null   float64\n",
            " 5   Bed Type           1861 non-null   object \n",
            " 6   Price              1861 non-null   float64\n",
            " 7   Minimum Nights     1861 non-null   int64  \n",
            " 8   Availability 30    1861 non-null   int64  \n",
            " 9   Number of Reviews  1861 non-null   int64  \n",
            " 10  Guests Included    1861 non-null   int64  \n",
            "dtypes: float64(4), int64(4), object(3)\n",
            "memory usage: 160.1+ KB\n"
          ]
        }
      ]
    },
    {
      "cell_type": "code",
      "source": [
        "Var_Ind = ['Property Type', 'Room Type', 'Bathrooms',\n",
        "                       'Bedrooms', 'Beds', 'Bed Type',\n",
        "                       'Minimum Nights', 'Availability 30', 'Number of Reviews',\n",
        "                      'Guests Included']"
      ],
      "metadata": {
        "id": "1R18a4dP7-4S"
      },
      "execution_count": 11,
      "outputs": []
    },
    {
      "cell_type": "code",
      "source": [
        "df.info()"
      ],
      "metadata": {
        "colab": {
          "base_uri": "https://localhost:8080/"
        },
        "id": "JY56D7ex-VnL",
        "outputId": "400b3180-d83f-45fa-f5ba-763225a7a6dd"
      },
      "execution_count": 28,
      "outputs": [
        {
          "output_type": "stream",
          "name": "stdout",
          "text": [
            "<class 'pandas.core.frame.DataFrame'>\n",
            "RangeIndex: 1861 entries, 0 to 1860\n",
            "Data columns (total 11 columns):\n",
            " #   Column             Non-Null Count  Dtype  \n",
            "---  ------             --------------  -----  \n",
            " 0   Property Type      1861 non-null   object \n",
            " 1   Room Type          1861 non-null   object \n",
            " 2   Bathrooms          1861 non-null   float64\n",
            " 3   Bedrooms           1861 non-null   float64\n",
            " 4   Beds               1861 non-null   float64\n",
            " 5   Bed Type           1861 non-null   object \n",
            " 6   Price              1861 non-null   float64\n",
            " 7   Minimum Nights     1861 non-null   int64  \n",
            " 8   Availability 30    1861 non-null   int64  \n",
            " 9   Number of Reviews  1861 non-null   int64  \n",
            " 10  Guests Included    1861 non-null   int64  \n",
            "dtypes: float64(4), int64(4), object(3)\n",
            "memory usage: 160.1+ KB\n"
          ]
        }
      ]
    },
    {
      "cell_type": "code",
      "source": [
        "from sklearn.preprocessing import LabelEncoder\n",
        "\n",
        "#Normalizar los datos de variables categoricas\n",
        "property_type = LabelEncoder()\n",
        "property_type.fit(df['Property Type'])\n",
        "df['Property Type'] = property_type.transform(df['Property Type'])\n",
        "room_type = LabelEncoder()\n",
        "room_type.fit(df['Room Type'])\n",
        "df['Room Type'] = room_type.transform(df['Room Type'])\n",
        "BedType = LabelEncoder()\n",
        "BedType.fit(df['Bed Type'])\n",
        "df['Bed Type'] = BedType.transform(df['Bed Type'])\n",
        "\n",
        "df.head().T"
      ],
      "metadata": {
        "colab": {
          "base_uri": "https://localhost:8080/",
          "height": 394
        },
        "id": "rZmVELiV-mZT",
        "outputId": "90dadc85-2cb1-436f-8aac-b25084e5068b"
      },
      "execution_count": 12,
      "outputs": [
        {
          "output_type": "execute_result",
          "data": {
            "text/plain": [
              "                      0      1     2     3     4\n",
              "Property Type       0.0    0.0   0.0   0.0   0.0\n",
              "Room Type           0.0    0.0   0.0   1.0   0.0\n",
              "Bathrooms           2.0    1.0   1.0   1.5   1.0\n",
              "Bedrooms            2.0    2.0   1.0   1.0   2.0\n",
              "Beds                5.0    2.0   1.0   1.0   3.0\n",
              "Bed Type            4.0    4.0   4.0   4.0   4.0\n",
              "Price              70.0  110.0  60.0  70.0  70.0\n",
              "Minimum Nights      2.0    2.0   1.0   1.0   2.0\n",
              "Availability 30     4.0   22.0   0.0   0.0   0.0\n",
              "Number of Reviews   5.0    5.0   0.0   0.0   6.0\n",
              "Guests Included     1.0    1.0   1.0   1.0   2.0"
            ],
            "text/html": [
              "\n",
              "  <div id=\"df-4072d76f-98da-424b-9487-f231bcc2fa8f\" class=\"colab-df-container\">\n",
              "    <div>\n",
              "<style scoped>\n",
              "    .dataframe tbody tr th:only-of-type {\n",
              "        vertical-align: middle;\n",
              "    }\n",
              "\n",
              "    .dataframe tbody tr th {\n",
              "        vertical-align: top;\n",
              "    }\n",
              "\n",
              "    .dataframe thead th {\n",
              "        text-align: right;\n",
              "    }\n",
              "</style>\n",
              "<table border=\"1\" class=\"dataframe\">\n",
              "  <thead>\n",
              "    <tr style=\"text-align: right;\">\n",
              "      <th></th>\n",
              "      <th>0</th>\n",
              "      <th>1</th>\n",
              "      <th>2</th>\n",
              "      <th>3</th>\n",
              "      <th>4</th>\n",
              "    </tr>\n",
              "  </thead>\n",
              "  <tbody>\n",
              "    <tr>\n",
              "      <th>Property Type</th>\n",
              "      <td>0.0</td>\n",
              "      <td>0.0</td>\n",
              "      <td>0.0</td>\n",
              "      <td>0.0</td>\n",
              "      <td>0.0</td>\n",
              "    </tr>\n",
              "    <tr>\n",
              "      <th>Room Type</th>\n",
              "      <td>0.0</td>\n",
              "      <td>0.0</td>\n",
              "      <td>0.0</td>\n",
              "      <td>1.0</td>\n",
              "      <td>0.0</td>\n",
              "    </tr>\n",
              "    <tr>\n",
              "      <th>Bathrooms</th>\n",
              "      <td>2.0</td>\n",
              "      <td>1.0</td>\n",
              "      <td>1.0</td>\n",
              "      <td>1.5</td>\n",
              "      <td>1.0</td>\n",
              "    </tr>\n",
              "    <tr>\n",
              "      <th>Bedrooms</th>\n",
              "      <td>2.0</td>\n",
              "      <td>2.0</td>\n",
              "      <td>1.0</td>\n",
              "      <td>1.0</td>\n",
              "      <td>2.0</td>\n",
              "    </tr>\n",
              "    <tr>\n",
              "      <th>Beds</th>\n",
              "      <td>5.0</td>\n",
              "      <td>2.0</td>\n",
              "      <td>1.0</td>\n",
              "      <td>1.0</td>\n",
              "      <td>3.0</td>\n",
              "    </tr>\n",
              "    <tr>\n",
              "      <th>Bed Type</th>\n",
              "      <td>4.0</td>\n",
              "      <td>4.0</td>\n",
              "      <td>4.0</td>\n",
              "      <td>4.0</td>\n",
              "      <td>4.0</td>\n",
              "    </tr>\n",
              "    <tr>\n",
              "      <th>Price</th>\n",
              "      <td>70.0</td>\n",
              "      <td>110.0</td>\n",
              "      <td>60.0</td>\n",
              "      <td>70.0</td>\n",
              "      <td>70.0</td>\n",
              "    </tr>\n",
              "    <tr>\n",
              "      <th>Minimum Nights</th>\n",
              "      <td>2.0</td>\n",
              "      <td>2.0</td>\n",
              "      <td>1.0</td>\n",
              "      <td>1.0</td>\n",
              "      <td>2.0</td>\n",
              "    </tr>\n",
              "    <tr>\n",
              "      <th>Availability 30</th>\n",
              "      <td>4.0</td>\n",
              "      <td>22.0</td>\n",
              "      <td>0.0</td>\n",
              "      <td>0.0</td>\n",
              "      <td>0.0</td>\n",
              "    </tr>\n",
              "    <tr>\n",
              "      <th>Number of Reviews</th>\n",
              "      <td>5.0</td>\n",
              "      <td>5.0</td>\n",
              "      <td>0.0</td>\n",
              "      <td>0.0</td>\n",
              "      <td>6.0</td>\n",
              "    </tr>\n",
              "    <tr>\n",
              "      <th>Guests Included</th>\n",
              "      <td>1.0</td>\n",
              "      <td>1.0</td>\n",
              "      <td>1.0</td>\n",
              "      <td>1.0</td>\n",
              "      <td>2.0</td>\n",
              "    </tr>\n",
              "  </tbody>\n",
              "</table>\n",
              "</div>\n",
              "    <div class=\"colab-df-buttons\">\n",
              "\n",
              "  <div class=\"colab-df-container\">\n",
              "    <button class=\"colab-df-convert\" onclick=\"convertToInteractive('df-4072d76f-98da-424b-9487-f231bcc2fa8f')\"\n",
              "            title=\"Convert this dataframe to an interactive table.\"\n",
              "            style=\"display:none;\">\n",
              "\n",
              "  <svg xmlns=\"http://www.w3.org/2000/svg\" height=\"24px\" viewBox=\"0 -960 960 960\">\n",
              "    <path d=\"M120-120v-720h720v720H120Zm60-500h600v-160H180v160Zm220 220h160v-160H400v160Zm0 220h160v-160H400v160ZM180-400h160v-160H180v160Zm440 0h160v-160H620v160ZM180-180h160v-160H180v160Zm440 0h160v-160H620v160Z\"/>\n",
              "  </svg>\n",
              "    </button>\n",
              "\n",
              "  <style>\n",
              "    .colab-df-container {\n",
              "      display:flex;\n",
              "      gap: 12px;\n",
              "    }\n",
              "\n",
              "    .colab-df-convert {\n",
              "      background-color: #E8F0FE;\n",
              "      border: none;\n",
              "      border-radius: 50%;\n",
              "      cursor: pointer;\n",
              "      display: none;\n",
              "      fill: #1967D2;\n",
              "      height: 32px;\n",
              "      padding: 0 0 0 0;\n",
              "      width: 32px;\n",
              "    }\n",
              "\n",
              "    .colab-df-convert:hover {\n",
              "      background-color: #E2EBFA;\n",
              "      box-shadow: 0px 1px 2px rgba(60, 64, 67, 0.3), 0px 1px 3px 1px rgba(60, 64, 67, 0.15);\n",
              "      fill: #174EA6;\n",
              "    }\n",
              "\n",
              "    .colab-df-buttons div {\n",
              "      margin-bottom: 4px;\n",
              "    }\n",
              "\n",
              "    [theme=dark] .colab-df-convert {\n",
              "      background-color: #3B4455;\n",
              "      fill: #D2E3FC;\n",
              "    }\n",
              "\n",
              "    [theme=dark] .colab-df-convert:hover {\n",
              "      background-color: #434B5C;\n",
              "      box-shadow: 0px 1px 3px 1px rgba(0, 0, 0, 0.15);\n",
              "      filter: drop-shadow(0px 1px 2px rgba(0, 0, 0, 0.3));\n",
              "      fill: #FFFFFF;\n",
              "    }\n",
              "  </style>\n",
              "\n",
              "    <script>\n",
              "      const buttonEl =\n",
              "        document.querySelector('#df-4072d76f-98da-424b-9487-f231bcc2fa8f button.colab-df-convert');\n",
              "      buttonEl.style.display =\n",
              "        google.colab.kernel.accessAllowed ? 'block' : 'none';\n",
              "\n",
              "      async function convertToInteractive(key) {\n",
              "        const element = document.querySelector('#df-4072d76f-98da-424b-9487-f231bcc2fa8f');\n",
              "        const dataTable =\n",
              "          await google.colab.kernel.invokeFunction('convertToInteractive',\n",
              "                                                    [key], {});\n",
              "        if (!dataTable) return;\n",
              "\n",
              "        const docLinkHtml = 'Like what you see? Visit the ' +\n",
              "          '<a target=\"_blank\" href=https://colab.research.google.com/notebooks/data_table.ipynb>data table notebook</a>'\n",
              "          + ' to learn more about interactive tables.';\n",
              "        element.innerHTML = '';\n",
              "        dataTable['output_type'] = 'display_data';\n",
              "        await google.colab.output.renderOutput(dataTable, element);\n",
              "        const docLink = document.createElement('div');\n",
              "        docLink.innerHTML = docLinkHtml;\n",
              "        element.appendChild(docLink);\n",
              "      }\n",
              "    </script>\n",
              "  </div>\n",
              "\n",
              "\n",
              "<div id=\"df-0e5ce846-dc7e-4446-b31e-68365ccadaa8\">\n",
              "  <button class=\"colab-df-quickchart\" onclick=\"quickchart('df-0e5ce846-dc7e-4446-b31e-68365ccadaa8')\"\n",
              "            title=\"Suggest charts\"\n",
              "            style=\"display:none;\">\n",
              "\n",
              "<svg xmlns=\"http://www.w3.org/2000/svg\" height=\"24px\"viewBox=\"0 0 24 24\"\n",
              "     width=\"24px\">\n",
              "    <g>\n",
              "        <path d=\"M19 3H5c-1.1 0-2 .9-2 2v14c0 1.1.9 2 2 2h14c1.1 0 2-.9 2-2V5c0-1.1-.9-2-2-2zM9 17H7v-7h2v7zm4 0h-2V7h2v10zm4 0h-2v-4h2v4z\"/>\n",
              "    </g>\n",
              "</svg>\n",
              "  </button>\n",
              "\n",
              "<style>\n",
              "  .colab-df-quickchart {\n",
              "      --bg-color: #E8F0FE;\n",
              "      --fill-color: #1967D2;\n",
              "      --hover-bg-color: #E2EBFA;\n",
              "      --hover-fill-color: #174EA6;\n",
              "      --disabled-fill-color: #AAA;\n",
              "      --disabled-bg-color: #DDD;\n",
              "  }\n",
              "\n",
              "  [theme=dark] .colab-df-quickchart {\n",
              "      --bg-color: #3B4455;\n",
              "      --fill-color: #D2E3FC;\n",
              "      --hover-bg-color: #434B5C;\n",
              "      --hover-fill-color: #FFFFFF;\n",
              "      --disabled-bg-color: #3B4455;\n",
              "      --disabled-fill-color: #666;\n",
              "  }\n",
              "\n",
              "  .colab-df-quickchart {\n",
              "    background-color: var(--bg-color);\n",
              "    border: none;\n",
              "    border-radius: 50%;\n",
              "    cursor: pointer;\n",
              "    display: none;\n",
              "    fill: var(--fill-color);\n",
              "    height: 32px;\n",
              "    padding: 0;\n",
              "    width: 32px;\n",
              "  }\n",
              "\n",
              "  .colab-df-quickchart:hover {\n",
              "    background-color: var(--hover-bg-color);\n",
              "    box-shadow: 0 1px 2px rgba(60, 64, 67, 0.3), 0 1px 3px 1px rgba(60, 64, 67, 0.15);\n",
              "    fill: var(--button-hover-fill-color);\n",
              "  }\n",
              "\n",
              "  .colab-df-quickchart-complete:disabled,\n",
              "  .colab-df-quickchart-complete:disabled:hover {\n",
              "    background-color: var(--disabled-bg-color);\n",
              "    fill: var(--disabled-fill-color);\n",
              "    box-shadow: none;\n",
              "  }\n",
              "\n",
              "  .colab-df-spinner {\n",
              "    border: 2px solid var(--fill-color);\n",
              "    border-color: transparent;\n",
              "    border-bottom-color: var(--fill-color);\n",
              "    animation:\n",
              "      spin 1s steps(1) infinite;\n",
              "  }\n",
              "\n",
              "  @keyframes spin {\n",
              "    0% {\n",
              "      border-color: transparent;\n",
              "      border-bottom-color: var(--fill-color);\n",
              "      border-left-color: var(--fill-color);\n",
              "    }\n",
              "    20% {\n",
              "      border-color: transparent;\n",
              "      border-left-color: var(--fill-color);\n",
              "      border-top-color: var(--fill-color);\n",
              "    }\n",
              "    30% {\n",
              "      border-color: transparent;\n",
              "      border-left-color: var(--fill-color);\n",
              "      border-top-color: var(--fill-color);\n",
              "      border-right-color: var(--fill-color);\n",
              "    }\n",
              "    40% {\n",
              "      border-color: transparent;\n",
              "      border-right-color: var(--fill-color);\n",
              "      border-top-color: var(--fill-color);\n",
              "    }\n",
              "    60% {\n",
              "      border-color: transparent;\n",
              "      border-right-color: var(--fill-color);\n",
              "    }\n",
              "    80% {\n",
              "      border-color: transparent;\n",
              "      border-right-color: var(--fill-color);\n",
              "      border-bottom-color: var(--fill-color);\n",
              "    }\n",
              "    90% {\n",
              "      border-color: transparent;\n",
              "      border-bottom-color: var(--fill-color);\n",
              "    }\n",
              "  }\n",
              "</style>\n",
              "\n",
              "  <script>\n",
              "    async function quickchart(key) {\n",
              "      const quickchartButtonEl =\n",
              "        document.querySelector('#' + key + ' button');\n",
              "      quickchartButtonEl.disabled = true;  // To prevent multiple clicks.\n",
              "      quickchartButtonEl.classList.add('colab-df-spinner');\n",
              "      try {\n",
              "        const charts = await google.colab.kernel.invokeFunction(\n",
              "            'suggestCharts', [key], {});\n",
              "      } catch (error) {\n",
              "        console.error('Error during call to suggestCharts:', error);\n",
              "      }\n",
              "      quickchartButtonEl.classList.remove('colab-df-spinner');\n",
              "      quickchartButtonEl.classList.add('colab-df-quickchart-complete');\n",
              "    }\n",
              "    (() => {\n",
              "      let quickchartButtonEl =\n",
              "        document.querySelector('#df-0e5ce846-dc7e-4446-b31e-68365ccadaa8 button');\n",
              "      quickchartButtonEl.style.display =\n",
              "        google.colab.kernel.accessAllowed ? 'block' : 'none';\n",
              "    })();\n",
              "  </script>\n",
              "</div>\n",
              "    </div>\n",
              "  </div>\n"
            ],
            "application/vnd.google.colaboratory.intrinsic+json": {
              "type": "dataframe",
              "variable_name": "df",
              "summary": "{\n  \"name\": \"df\",\n  \"rows\": 1861,\n  \"fields\": [\n    {\n      \"column\": \"Property Type\",\n      \"properties\": {\n        \"dtype\": \"number\",\n        \"std\": 2,\n        \"min\": 0,\n        \"max\": 12,\n        \"num_unique_values\": 13,\n        \"samples\": [\n          11,\n          5,\n          0\n        ],\n        \"semantic_type\": \"\",\n        \"description\": \"\"\n      }\n    },\n    {\n      \"column\": \"Room Type\",\n      \"properties\": {\n        \"dtype\": \"number\",\n        \"std\": 0,\n        \"min\": 0,\n        \"max\": 2,\n        \"num_unique_values\": 3,\n        \"samples\": [\n          0,\n          1,\n          2\n        ],\n        \"semantic_type\": \"\",\n        \"description\": \"\"\n      }\n    },\n    {\n      \"column\": \"Bathrooms\",\n      \"properties\": {\n        \"dtype\": \"number\",\n        \"std\": 0.5795324374969693,\n        \"min\": 0.0,\n        \"max\": 8.0,\n        \"num_unique_values\": 12,\n        \"samples\": [\n          5.0,\n          0.0,\n          2.0\n        ],\n        \"semantic_type\": \"\",\n        \"description\": \"\"\n      }\n    },\n    {\n      \"column\": \"Bedrooms\",\n      \"properties\": {\n        \"dtype\": \"number\",\n        \"std\": 0.7938000408845627,\n        \"min\": 0.0,\n        \"max\": 10.0,\n        \"num_unique_values\": 8,\n        \"samples\": [\n          1.0,\n          5.0,\n          2.0\n        ],\n        \"semantic_type\": \"\",\n        \"description\": \"\"\n      }\n    },\n    {\n      \"column\": \"Beds\",\n      \"properties\": {\n        \"dtype\": \"number\",\n        \"std\": 1.446801323216535,\n        \"min\": 1.0,\n        \"max\": 16.0,\n        \"num_unique_values\": 12,\n        \"samples\": [\n          8.0,\n          16.0,\n          5.0\n        ],\n        \"semantic_type\": \"\",\n        \"description\": \"\"\n      }\n    },\n    {\n      \"column\": \"Bed Type\",\n      \"properties\": {\n        \"dtype\": \"number\",\n        \"std\": 0,\n        \"min\": 0,\n        \"max\": 4,\n        \"num_unique_values\": 5,\n        \"samples\": [\n          3,\n          1,\n          2\n        ],\n        \"semantic_type\": \"\",\n        \"description\": \"\"\n      }\n    },\n    {\n      \"column\": \"Price\",\n      \"properties\": {\n        \"dtype\": \"number\",\n        \"std\": 61.88990620048175,\n        \"min\": 10.0,\n        \"max\": 750.0,\n        \"num_unique_values\": 169,\n        \"samples\": [\n          250.0,\n          78.0,\n          46.0\n        ],\n        \"semantic_type\": \"\",\n        \"description\": \"\"\n      }\n    },\n    {\n      \"column\": \"Minimum Nights\",\n      \"properties\": {\n        \"dtype\": \"number\",\n        \"std\": 2,\n        \"min\": 1,\n        \"max\": 25,\n        \"num_unique_values\": 14,\n        \"samples\": [\n          14,\n          11,\n          2\n        ],\n        \"semantic_type\": \"\",\n        \"description\": \"\"\n      }\n    },\n    {\n      \"column\": \"Availability 30\",\n      \"properties\": {\n        \"dtype\": \"number\",\n        \"std\": 9,\n        \"min\": 0,\n        \"max\": 30,\n        \"num_unique_values\": 31,\n        \"samples\": [\n          26,\n          17,\n          15\n        ],\n        \"semantic_type\": \"\",\n        \"description\": \"\"\n      }\n    },\n    {\n      \"column\": \"Number of Reviews\",\n      \"properties\": {\n        \"dtype\": \"number\",\n        \"std\": 41,\n        \"min\": 0,\n        \"max\": 446,\n        \"num_unique_values\": 168,\n        \"samples\": [\n          263,\n          17,\n          187\n        ],\n        \"semantic_type\": \"\",\n        \"description\": \"\"\n      }\n    },\n    {\n      \"column\": \"Guests Included\",\n      \"properties\": {\n        \"dtype\": \"number\",\n        \"std\": 1,\n        \"min\": 1,\n        \"max\": 8,\n        \"num_unique_values\": 8,\n        \"samples\": [\n          2,\n          5,\n          1\n        ],\n        \"semantic_type\": \"\",\n        \"description\": \"\"\n      }\n    }\n  ]\n}"
            }
          },
          "metadata": {},
          "execution_count": 12
        }
      ]
    },
    {
      "cell_type": "code",
      "source": [
        "df.shape\n"
      ],
      "metadata": {
        "colab": {
          "base_uri": "https://localhost:8080/"
        },
        "id": "uzt3_Rk14wTP",
        "outputId": "58ce9f4f-b14f-432c-f268-745fe46fbd0a"
      },
      "execution_count": 13,
      "outputs": [
        {
          "output_type": "execute_result",
          "data": {
            "text/plain": [
              "(1861, 11)"
            ]
          },
          "metadata": {},
          "execution_count": 13
        }
      ]
    },
    {
      "cell_type": "markdown",
      "source": [
        "##División de datos\n",
        "\n",
        "El proceso de división de los datos involucra separar el conjunto de datos en conjuntos de entrenamiento, validación y prueba para dos tipos de datos: imágenes (`X_images`, `y_images`) y datos tabulares (`X_tab`, `y_tab`). Estos son los pasos seguidos:\n",
        "\n",
        "### Datos Tabulares\n",
        "1. **Separación Inicial de Datos Tabulares:**\n",
        "   - Se dividen los datos tabulares en características independientes `X_tab` (excluyendo la columna 'Price') y la variable objetivo `y_tab` ('Price').\n",
        "   - Luego, se realiza una primera división utilizando `train_test_split` para separar los datos en un conjunto de entrenamiento preliminar (`X_tab_train_pre`, `y_tab_train_pre`) y un conjunto de prueba (`X_tab_test`, `y_tab_test`), con un tamaño de prueba del 20% y una semilla aleatoria de 42.\n",
        "\n",
        "2. **División de Entrenamiento y Validación para Datos Tabulares:**\n",
        "   - A partir del conjunto de entrenamiento preliminar, se realiza una segunda división para obtener los conjuntos de entrenamiento final (`X_tab_train`, `y_tab_train`) y de validación (`X_tab_val`, `y_tab_val`), con un tamaño de prueba (validación en este contexto) del 20% y la misma semilla aleatoria.\n",
        "\n",
        "### Datos de Imágenes\n",
        "1. **Separación Inicial de Datos de Imágenes:**\n",
        "   - Similar a los datos tabulares, los datos de imágenes se dividen inicialmente en un conjunto de entrenamiento preliminar (`X_images_train_pre`, `y_images_train_pre`) y un conjunto de prueba (`X_images_test`, `y_images_test`), siguiendo los mismos parámetros de división.\n",
        "\n",
        "2. **División de Entrenamiento y Validación para Datos de Imágenes:**\n",
        "   - A partir del conjunto de entrenamiento preliminar de imágenes, se realiza una segunda división para obtener los conjuntos de entren\n"
      ],
      "metadata": {
        "id": "BmU7LPcCaBLP"
      }
    },
    {
      "cell_type": "code",
      "source": [
        "## Division de los datos\n",
        "\n",
        "from sklearn.model_selection import train_test_split\n",
        "X_images = images\n",
        "y_images = df['Price']\n",
        "\n",
        "X_tab = df.drop('Price', axis=1)\n",
        "y_tab = df['Price']  # Se determina la variable objetivo\n",
        "\n",
        "X_tab_train_pre, X_tab_test, y_tab_train_pre, y_tab_test = train_test_split(X_tab, y_tab, test_size=0.2, random_state=42)\n",
        "\n",
        "X_tab_train, X_tab_val, y_tab_train, y_tab_val = train_test_split(X_tab_train_pre, y_tab_train_pre, test_size=0.2, random_state=42)\n",
        "\n",
        "X_images_train_pre, X_images_test, y_images_train_pre, y_images_test = train_test_split(X_images, y_images, test_size=0.2, random_state=42)\n",
        "\n",
        "X_images_train, X_images_val, y_images_train, y_images_val = train_test_split(X_images_train_pre, y_images_train_pre, test_size=0.2, random_state=42)\n",
        "\n"
      ],
      "metadata": {
        "id": "-PnhFaNa2Q8I"
      },
      "execution_count": 14,
      "outputs": []
    },
    {
      "cell_type": "markdown",
      "source": [
        "### Escalado de las Características Numéricas\n",
        "\n",
        "El proceso de escalado de las características numéricas asegura que todas las variables independientes contribuyan equitativamente al modelo de aprendizaje automático, mejorando así su rendimiento y estabilidad. Se realiza de la siguiente manera:\n",
        "\n",
        "1. **Inicialización del Escalador:**\n",
        "   - Se utiliza `StandardScaler` de `sklearn.preprocessing` para inicializar el escalador, que estandariza las características eliminando la media y escalando a varianza unitaria.\n",
        "\n",
        "2. **Ajuste y Transformación en el Conjunto de Entrenamiento:**\n",
        "   - El escalador se ajusta (`fit`) y transforma (`transform`) solo con los datos de entrenamiento (`X_tab_train`) para las variables numéricas específicas (`Var_Ind`), lo que implica calcular la media y la desviación estándar para cada característica, y luego usar estos valores para escalar los datos.\n",
        "\n",
        "3. **Transformación de los Conjuntos de Validación y Prueba:**\n",
        "   - Los conjuntos de validación (`X_tab_val`) y prueba (`X_tab_test`) se transforman utilizando el mismo escalador (`scaler.transform`) ajustado con los datos de entrenamiento. Esto asegura que la transformación aplicada sea consistente a través de todos los conjuntos de datos, utilizando la misma media y desviación estándar calculadas durante el ajuste con el conjunto de entrenamiento.\n",
        "\n",
        "Este enfoque mantiene la integridad de los datos de prueba y validación al evitar el riesgo de fuga de datos (data leakage) y garantiza que el modelo se evalúe en condiciones que simulan datos no vistos durante el entrenamiento.\n"
      ],
      "metadata": {
        "id": "KJrcW0-tbSiL"
      }
    },
    {
      "cell_type": "code",
      "source": [
        "# Escalado de las caracteristicas numericas\n",
        "from sklearn.preprocessing import StandardScaler\n",
        "scaler = StandardScaler()\n",
        "\n",
        "# Ajusto el escaler solo con datos de entrenamiento\n",
        "scaler.fit_transform(X_tab_train[Var_Ind])\n",
        "\n",
        "# Transformar los conjuntos train, validacion y test\n",
        "X_tab_val[Var_Ind] = scaler.transform(X_tab_val[Var_Ind])\n",
        "X_tab_test[Var_Ind] = scaler.transform(X_tab_test[Var_Ind])\n"
      ],
      "metadata": {
        "id": "K3bXKAMt6GKo"
      },
      "execution_count": 15,
      "outputs": []
    },
    {
      "cell_type": "code",
      "source": [
        "# Determino las columnas categoricas (de tipo 'object' y 'category')\n",
        "\n",
        "categorical_columns = df.select_dtypes(include=['object', 'category']).columns\n",
        "\n",
        "print(\"Variables categóricas en el DataFrame:\")\n",
        "print(categorical_columns)\n",
        "\n",
        "df.info()\n"
      ],
      "metadata": {
        "colab": {
          "base_uri": "https://localhost:8080/"
        },
        "id": "KKjgknjV8c7y",
        "outputId": "2d8817b9-9def-4244-97b0-61b41e34f6fd"
      },
      "execution_count": 16,
      "outputs": [
        {
          "output_type": "stream",
          "name": "stdout",
          "text": [
            "Variables categóricas en el DataFrame:\n",
            "Index([], dtype='object')\n",
            "<class 'pandas.core.frame.DataFrame'>\n",
            "RangeIndex: 1861 entries, 0 to 1860\n",
            "Data columns (total 11 columns):\n",
            " #   Column             Non-Null Count  Dtype  \n",
            "---  ------             --------------  -----  \n",
            " 0   Property Type      1861 non-null   int64  \n",
            " 1   Room Type          1861 non-null   int64  \n",
            " 2   Bathrooms          1861 non-null   float64\n",
            " 3   Bedrooms           1861 non-null   float64\n",
            " 4   Beds               1861 non-null   float64\n",
            " 5   Bed Type           1861 non-null   int64  \n",
            " 6   Price              1861 non-null   float64\n",
            " 7   Minimum Nights     1861 non-null   int64  \n",
            " 8   Availability 30    1861 non-null   int64  \n",
            " 9   Number of Reviews  1861 non-null   int64  \n",
            " 10  Guests Included    1861 non-null   int64  \n",
            "dtypes: float64(4), int64(7)\n",
            "memory usage: 160.1 KB\n"
          ]
        }
      ]
    },
    {
      "cell_type": "markdown",
      "source": [
        "Para mejorar el rendimiento del modelo y asegurar que todas las características de las imágenes tengan la misma escala, se centran y normalizan las imágenes de la siguiente manera:\n",
        "\n",
        "1. **Cálculo de la Media:**\n",
        "   - Se calcula la media de todas las imágenes en el conjunto de entrenamiento (`X_images_train`) a lo largo del eje 0, resultando en `X_images_train_mean`. Este paso centra los datos restando esta media a cada imagen.\n",
        "\n",
        "2. **Centrado de las Imágenes de Entrenamiento:**\n",
        "   - A cada imagen en el conjunto de entrenamiento se le resta la media calculada anteriormente (`X_images_train_mean`), obteniendo así `X_images_train_cent`. Este proceso centra los datos alrededor de cero.\n",
        "\n",
        "3. **Normalización de las Imágenes de Entrenamiento:**\n",
        "   - Se calcula la desviación estándar de las imágenes centradas en el conjunto de entrenamiento (`X_images_train_cent`), resultando en `X_images_train_std`.\n",
        "   - Las imágenes centradas se dividen por esta desviación estándar, normalizando así las imágenes en términos de su escala de varianza.\n",
        "\n",
        "4. **Aplicación a Conjuntos de Test y Validación:**\n",
        "   - Las imágenes en los conjuntos de test (`X_images_test`) y validación (`X_images_val`) también se centran y normalizan utilizando la media (`X_images_train_mean`) y la desviación estándar (`X_images_train_std`) calculadas únicamente a partir del conjunto de entrenamiento.\n",
        "   - Este enfoque asegura que la transformación aplicada sea consistente a través de todos los conjuntos de datos y previene la fuga de información del conjunto de entrenamiento al de validación o test.\n",
        "\n",
        "Este proceso garantiza que todas las imágenes, independientemente del conjunto al que pertenezcan, se procesen de manera uniforme, mejorando así la capacidad del modelo para aprender de Los datos de manera eficiente\n"
      ],
      "metadata": {
        "id": "QkXer6NnbspZ"
      }
    },
    {
      "cell_type": "code",
      "source": [
        "X_images_train_mean = np.mean(X_images_train, axis=0)\n",
        "X_images_train_cent = X_images_train - X_images_train_mean\n",
        "X_images_train_std = np.std(X_images_train, axis=0)\n",
        "X_images_train = X_images_train_cent / X_images_train_std\n",
        "X_images_test = (X_images_test - X_images_train_mean) / X_images_train_std\n",
        "X_images_val = (X_images_val - X_images_train_mean) / X_images_train_std"
      ],
      "metadata": {
        "id": "0v29_B3G8qa3"
      },
      "execution_count": 17,
      "outputs": []
    },
    {
      "cell_type": "code",
      "source": [
        "# Generare una prediccion con una RL para tener una referencia.\n",
        "\n",
        "from sklearn.linear_model import LinearRegression\n",
        "from sklearn.metrics import mean_squared_error, mean_absolute_error\n",
        "\n",
        "# Crear y entrenar el modelo de regresión lineal\n",
        "model_lr = LinearRegression()\n",
        "model_lr.fit(X_tab_train, y_tab_train)\n",
        "\n",
        "# Predecir y evaluar el modelo\n",
        "y_tab_pred = model_lr.predict(X_tab_test)\n",
        "mse = mean_squared_error(y_tab_test, y_tab_pred)\n",
        "mae = mean_absolute_error(y_tab_test, y_tab_pred)\n",
        "\n",
        "print(f'El Error Cuadratico Medio (MSE) es: {mse} , Acuraccy es: {mae}')"
      ],
      "metadata": {
        "colab": {
          "base_uri": "https://localhost:8080/"
        },
        "id": "UBHpPsrr8wiH",
        "outputId": "96f67281-878d-475a-9541-30e1694d1943"
      },
      "execution_count": 35,
      "outputs": [
        {
          "output_type": "stream",
          "name": "stdout",
          "text": [
            "El Error Cuadratico Medio (MSE) es: 6823.277688525456 , Acuraccy es: 59.51815120018282\n"
          ]
        }
      ]
    },
    {
      "cell_type": "markdown",
      "source": [
        "## Modelo de Red Neuronal Convolucional Nivel 1: Estructura Simplificada\n",
        "\n",
        "Este modelo representa el nivel más básico de complejidad, con solo una capa convolucional seguida de una capa de pooling, una capa de aplanamiento, y una capa densa antes de la capa de salida. Está diseñado para realizar tareas de regresión.\n",
        "\n",
        "### Estructura del Modelo\n",
        "\n",
        "1. **Capa Convolucional:**\n",
        "   - `Conv2D` con 16 filtros, un kernel de tamaño `(3, 3)`, y activación 'relu'.\n",
        "   - El `input_shape` se establece en `(224, 224, 3)`, asumiendo imágenes a color de tamaño 224x224.\n",
        "\n",
        "2. **Capa de Pooling:**\n",
        "   - `MaxPooling2D` con un tamaño de ventana `(2, 2)` para reducir la dimensionalidad.\n",
        "\n",
        "3. **Aplanamiento:**\n",
        "   - `Flatten` para convertir las matrices de características en un vector único que pueda ser procesado por capas densas.\n",
        "\n",
        "4. **Capa Densa (Salida):**\n",
        "   - Una capa `Dense` con una sola unidad y activación 'linear', adecuada para regresión.\n",
        "\n",
        "### Compilación\n",
        "\n",
        "- El modelo se compila con la función de pérdida `'mse'` (error cuadrático medio) para regresión, utilizando el optimizador `'adam'` y monitoreando el `'mae'` (error absoluto medio) como métrica de rendimiento.\n",
        "\n",
        "### Entrenamiento\n",
        "\n",
        "- El entrenamiento se realiza sobre los conjuntos de datos de entrenamiento y validación especificados (`X_images_train`, `y_images_train`, `X_images_val`, `y_images_val`), con 10 épocas y un tamaño de lote de 20.\n",
        "\n",
        "Este enfoque proporciona una introducción sencilla al uso de redes neuronales convolucionales para tareas de regresión, enfatizando la simplicidad y la eficiencia en la estructura del modelo.\n"
      ],
      "metadata": {
        "id": "wfGw7zSYcOG_"
      }
    },
    {
      "cell_type": "code",
      "source": [
        "#Nivel 1 mas sencillo (solo una capa convolucional y una capa densa antes de la capa de salida)\n",
        "\n",
        "from tensorflow.keras.models import Sequential\n",
        "from tensorflow.keras.layers import Conv2D, MaxPooling2D, Flatten, Dense\n",
        "\n",
        "# Inicializo el modelo\n",
        "model_images = Sequential()\n",
        "\n",
        "# Estructura muy simplificada\n",
        "model_images.add(Conv2D(16, (3, 3), activation='relu', input_shape=(224, 224, 3)))\n",
        "model_images.add(MaxPooling2D((2, 2)))\n",
        "model_images.add(Flatten())\n",
        "model_images.add(Dense(1, activation='linear'))  # Asumiendo regresión\n",
        "\n",
        "# Compilación del modelo\n",
        "model_images.compile(loss='mse', optimizer='adam', metrics=['mae'])\n",
        "\n",
        "# Resumen del modelo\n",
        "model_images.summary()\n",
        "\n",
        "# Entrenamiento del modelo\n",
        "history0 = model_images.fit(X_images_train, y_images_train, epochs=10, batch_size=20, validation_data=(X_images_val, y_images_val ))\n",
        "\n"
      ],
      "metadata": {
        "colab": {
          "base_uri": "https://localhost:8080/"
        },
        "id": "9lVaYhxXCCzl",
        "outputId": "e3709f7a-16ff-4989-a7c0-a699962f8b46"
      },
      "execution_count": 40,
      "outputs": [
        {
          "output_type": "stream",
          "name": "stdout",
          "text": [
            "Model: \"sequential_3\"\n",
            "_________________________________________________________________\n",
            " Layer (type)                Output Shape              Param #   \n",
            "=================================================================\n",
            " conv2d_7 (Conv2D)           (None, 222, 222, 16)      448       \n",
            "                                                                 \n",
            " max_pooling2d_7 (MaxPoolin  (None, 111, 111, 16)      0         \n",
            " g2D)                                                            \n",
            "                                                                 \n",
            " flatten_3 (Flatten)         (None, 197136)            0         \n",
            "                                                                 \n",
            " dense_6 (Dense)             (None, 1)                 197137    \n",
            "                                                                 \n",
            "=================================================================\n",
            "Total params: 197585 (771.82 KB)\n",
            "Trainable params: 197585 (771.82 KB)\n",
            "Non-trainable params: 0 (0.00 Byte)\n",
            "_________________________________________________________________\n",
            "Epoch 1/10\n",
            "60/60 [==============================] - 38s 614ms/step - loss: 3332.2678 - mae: 34.5925 - val_loss: 5851.7832 - val_mae: 39.9968\n",
            "Epoch 2/10\n",
            "60/60 [==============================] - 30s 490ms/step - loss: 2922.2659 - mae: 31.4885 - val_loss: 5723.9688 - val_mae: 41.0855\n",
            "Epoch 3/10\n",
            "60/60 [==============================] - 27s 451ms/step - loss: 2662.8025 - mae: 30.2807 - val_loss: 5959.8691 - val_mae: 38.4207\n",
            "Epoch 4/10\n",
            "60/60 [==============================] - 27s 452ms/step - loss: 2415.7356 - mae: 29.3307 - val_loss: 5747.2515 - val_mae: 38.5742\n",
            "Epoch 5/10\n",
            "60/60 [==============================] - 29s 483ms/step - loss: 2081.2097 - mae: 26.9955 - val_loss: 5701.8560 - val_mae: 40.3879\n",
            "Epoch 6/10\n",
            "60/60 [==============================] - 26s 442ms/step - loss: 1858.1737 - mae: 26.6235 - val_loss: 5848.6050 - val_mae: 40.5327\n",
            "Epoch 7/10\n",
            "60/60 [==============================] - 26s 428ms/step - loss: 1594.9149 - mae: 24.5235 - val_loss: 6049.3677 - val_mae: 40.6752\n",
            "Epoch 8/10\n",
            "60/60 [==============================] - 27s 448ms/step - loss: 1304.5933 - mae: 22.5953 - val_loss: 6015.2476 - val_mae: 42.9494\n",
            "Epoch 9/10\n",
            "60/60 [==============================] - 27s 454ms/step - loss: 1085.5852 - mae: 20.8112 - val_loss: 5802.1421 - val_mae: 43.9312\n",
            "Epoch 10/10\n",
            "60/60 [==============================] - 36s 604ms/step - loss: 870.7885 - mae: 18.2656 - val_loss: 5944.8037 - val_mae: 44.7225\n"
          ]
        }
      ]
    },
    {
      "cell_type": "markdown",
      "source": [
        "## Análisis de Resultados del Modelo Simplificado\n",
        "\n",
        "El modelo \"sequential_3\", una red neuronal convolucional simplificada, muestra los siguientes resultados a lo largo de 10 épocas de entrenamiento y validación:\n",
        "\n",
        "### Estructura del Modelo\n",
        "\n",
        "- **Capas:** El modelo consta de una capa convolucional `Conv2D`, seguida por una capa de pooling `MaxPooling2D`, una capa de aplanamiento `Flatten`, y finalmente una capa densa `Dense` que produce la salida.\n",
        "- **Parámetros Entrenables:** Hay un total de 197,585 parámetros entrenables, lo que indica una estructura relativamente simple comparada con modelos más profundos o complejos.\n",
        "\n",
        "### Rendimiento Durante el Entrenamiento\n",
        "\n",
        "- **Pérdida y MAE:** Durante el entrenamiento, la pérdida (`loss`) y el error absoluto medio (`mae`) disminuyen de manera constante, indicando que el modelo está aprendiendo de los datos. La pérdida se reduce de 3332.2678 a 870.7885, y el MAE de 34.5925 a 18.2656 a lo largo de las épocas.\n",
        "\n",
        "### Rendimiento en la Validación\n",
        "\n",
        "- **Pérdida y MAE en Validación:** En el conjunto de validación, la pérdida (`val_loss`) y el MAE (`val_mae`) fluctúan a lo largo de las épocas. La pérdida de validación inicial es de 5851.7832 y termina en 5944.8037 en la última época, con un MAE que aumenta de 39.9968 a 44.7225.\n",
        "\n",
        "### Observaciones\n",
        "\n",
        "1. **Mejora en el Entrenamiento:** El modelo muestra una mejora significativa en el conjunto de entrenamiento, como se refleja en la reducción de la pérdida y el MAE.\n",
        "\n",
        "2. **Fluctuaciones en la Validación:** Aunque el modelo mejora en el entrenamiento, las métricas de validación fluctúan y generalmente no muestran una tendencia clara de mejora. Esto puede indicar un sobreajuste del modelo a los datos de entrenamiento, lo que reduce su capacidad para generalizar a nuevos datos.\n",
        "\n",
        "3. **Potencial de Ajuste:** Las fluctuaciones en el rendimiento de validación sugieren que podría ser útil aplicar técnicas para combatir el sobreajuste, como la regularización, el dropout en capas adicionales o el uso de técnicas de aumento de datos.\n",
        "\n",
        "4. **Consideraciones Futuras:** Para mejorar el rendimiento en datos no vistos, sería recomendable experimentar con ajustes en la arquitectura del modelo, parámetros de entrenamiento, y técnicas de regularización.\n",
        "\n",
        "Este análisis sugiere que, mientras el modelo ha aprendido efectivamente de los datos de entrenamiento, hay espacio para mejorar su eficiencia.\n",
        "\n",
        "A tener en cuenta,que hice esta porque con mas capas me iba muy lento y se me bloqueaba\n"
      ],
      "metadata": {
        "id": "MaLWJk2LciwP"
      }
    },
    {
      "cell_type": "code",
      "source": [
        "from tensorflow.keras.models import Sequential\n",
        "from tensorflow.keras.layers import Conv2D, MaxPooling2D, Flatten, Dense, Dropout\n",
        "\n",
        "# Inicializo el modelo\n",
        "model_images = Sequential()\n",
        "\n",
        "# Estructura simplificada\n",
        "model_images.add(Conv2D(16, (3, 3), activation='relu', input_shape=(224, 224, 3)))\n",
        "model_images.add(MaxPooling2D((2, 2)))\n",
        "model_images.add(Conv2D(32, (3, 3), activation='relu'))\n",
        "model_images.add(MaxPooling2D((2, 2)))\n",
        "model_images.add(Flatten())\n",
        "model_images.add(Dense(64, activation='relu'))\n",
        "model_images.add(Dense(1, activation='linear'))  # Asumiendo regresión\n",
        "\n",
        "# Compilación del modelo\n",
        "model_images.compile(loss='mse', optimizer='adam', metrics=['mae'])\n",
        "\n",
        "# Resumen del modelo\n",
        "model_images.summary()\n",
        "\n",
        "# Entrenamiento del modelo\n",
        "history1 = model_images.fit(X_images_train, y_images_train, epochs=10, batch_size=20, validation_data=(X_images_val, y_images_val ))\n"
      ],
      "metadata": {
        "colab": {
          "base_uri": "https://localhost:8080/"
        },
        "id": "KBt9NGEBBiIA",
        "outputId": "ae4ccff8-0666-49a0-8e59-95b063ebd90a"
      },
      "execution_count": 38,
      "outputs": [
        {
          "output_type": "stream",
          "name": "stdout",
          "text": [
            "Model: \"sequential_2\"\n",
            "_________________________________________________________________\n",
            " Layer (type)                Output Shape              Param #   \n",
            "=================================================================\n",
            " conv2d_5 (Conv2D)           (None, 222, 222, 16)      448       \n",
            "                                                                 \n",
            " max_pooling2d_5 (MaxPoolin  (None, 111, 111, 16)      0         \n",
            " g2D)                                                            \n",
            "                                                                 \n",
            " conv2d_6 (Conv2D)           (None, 109, 109, 32)      4640      \n",
            "                                                                 \n",
            " max_pooling2d_6 (MaxPoolin  (None, 54, 54, 32)        0         \n",
            " g2D)                                                            \n",
            "                                                                 \n",
            " flatten_2 (Flatten)         (None, 93312)             0         \n",
            "                                                                 \n",
            " dense_4 (Dense)             (None, 64)                5972032   \n",
            "                                                                 \n",
            " dense_5 (Dense)             (None, 1)                 65        \n",
            "                                                                 \n",
            "=================================================================\n",
            "Total params: 5977185 (22.80 MB)\n",
            "Trainable params: 5977185 (22.80 MB)\n",
            "Non-trainable params: 0 (0.00 Byte)\n",
            "_________________________________________________________________\n",
            "Epoch 1/10\n",
            "60/60 [==============================] - 49s 788ms/step - loss: 3378.4924 - mae: 35.0232 - val_loss: 5839.9771 - val_mae: 38.2849\n",
            "Epoch 2/10\n",
            "60/60 [==============================] - 58s 967ms/step - loss: 2932.1765 - mae: 31.2407 - val_loss: 5688.6274 - val_mae: 43.5723\n",
            "Epoch 3/10\n",
            "60/60 [==============================] - 52s 868ms/step - loss: 2516.1350 - mae: 29.3301 - val_loss: 5523.4658 - val_mae: 42.5627\n",
            "Epoch 4/10\n",
            "60/60 [==============================] - 48s 800ms/step - loss: 1936.2218 - mae: 25.7203 - val_loss: 5693.5444 - val_mae: 42.9849\n",
            "Epoch 5/10\n",
            "60/60 [==============================] - 49s 813ms/step - loss: 1429.7036 - mae: 24.0997 - val_loss: 6219.1206 - val_mae: 40.6754\n",
            "Epoch 6/10\n",
            "60/60 [==============================] - 49s 817ms/step - loss: 964.5497 - mae: 21.2914 - val_loss: 5915.4033 - val_mae: 42.8696\n",
            "Epoch 7/10\n",
            "60/60 [==============================] - 47s 785ms/step - loss: 530.7170 - mae: 16.3137 - val_loss: 5772.2441 - val_mae: 40.1836\n",
            "Epoch 8/10\n",
            "60/60 [==============================] - 46s 775ms/step - loss: 278.6419 - mae: 12.3225 - val_loss: 5793.0479 - val_mae: 39.1599\n",
            "Epoch 9/10\n",
            "60/60 [==============================] - 47s 788ms/step - loss: 217.0544 - mae: 10.5012 - val_loss: 5981.2705 - val_mae: 40.3335\n",
            "Epoch 10/10\n",
            "60/60 [==============================] - 54s 898ms/step - loss: 183.5665 - mae: 8.8876 - val_loss: 6027.5537 - val_mae: 39.6950\n"
          ]
        }
      ]
    },
    {
      "cell_type": "markdown",
      "source": [
        "### Comparación de Modelos de Red Neuronal Convolucional\n",
        "\n",
        "Se presentan diferencias clave entre dos iteraciones de un modelo de red neuronal convolucional diseñado para tareas de regresión, destacando la evolución de una estructura muy simplificada a una ligeramente más compleja.\n",
        "\n",
        "### Modelo Nivel 1: Estructura Muy Simplificada\n",
        "\n",
        "- **Estructura del Modelo:**\n",
        "  - Una única capa `Conv2D` con 16 filtros.\n",
        "  - Una capa `MaxPooling2D` para reducir la dimensionalidad.\n",
        "  - Capa de aplanamiento `Flatten`.\n",
        "  - Una única capa densa `Dense` antes de la capa de salida.\n",
        "\n",
        "### Modelo Revisado: Estructura Simplificada\n",
        "\n",
        "- **Estructura del Modelo:**\n",
        "  - Dos capas `Conv2D`, la primera con 16 filtros y la segunda con 32 filtros, ambas seguidas por una capa `MaxPooling2D`.\n",
        "  - Capa de aplanamiento `Flatten`.\n",
        "  - Dos capas densas `Dense`, la primera con 64 unidades seguida de una capa de salida con activación lineal.\n",
        "\n",
        "### Cambios Clave:\n",
        "\n",
        "1. **Número de Capas Convolucionales y de Pooling:**\n",
        "   - El modelo revisado introduce una capa `Conv2D` adicional y una capa `MaxPooling2D`, aumentando la capacidad del modelo para extraer características más complejas de las imágenes.\n",
        "\n",
        "2. **Capas Densas:**\n",
        "   - Mientras que el modelo inicial cuenta con una única capa densa antes de la salida, el modelo revisado incorpora una capa densa adicional con 64 unidades, permitiendo una mayor abstracción y procesamiento de las características extraídas.\n",
        "\n",
        "3. **Complejidad y Capacidad:**\n",
        "   - El modelo revisado es más complejo debido al mayor número de capas y unidades, lo que potencialmente mejora su capacidad de aprendizaje pero también aumenta el riesgo de sobreajuste y requiere más recursos computacionales para el entrenamiento.\n",
        "\n",
        "### Conclusión:\n",
        "\n",
        "La transición de una estructura muy simplificada a una más compleja busca equilibrar la capacidad del modelo para capturar la complejidad de los datos contra el riesgo de sobreajuste y los costos computacionales. La elección entre estas configuraciones dependerá del conjunto de datos específico, los recursos disponibles y los objetivos del proyecto.\n"
      ],
      "metadata": {
        "id": "wjSY_dlNdCHK"
      }
    },
    {
      "cell_type": "code",
      "source": [
        "# Evaluacion del modelo\n",
        "test_loss, test_mae = model_images.evaluate(X_images_test, y_images_test)\n",
        "print(f'MSE Perdida en el conjunto de prueba: {test_loss}')\n",
        "print(f'MAE en el conjunto de prueba: {test_mae}')\n",
        "\n",
        "# Visualizacion de la pérdida durante el entrenamiento\n",
        "plt.plot(history1.history['loss'], label='Perdida de entrenamiento')\n",
        "plt.plot(history1.history['val_loss'], label='Perdida de validacion')\n",
        "plt.title('Perdida durante el Entrenamiento')\n",
        "plt.xlabel('Epocas')\n",
        "plt.ylabel('Pérdida')\n",
        "plt.legend()\n",
        "plt.show()"
      ],
      "metadata": {
        "colab": {
          "base_uri": "https://localhost:8080/",
          "height": 524
        },
        "id": "oN3s8B9O9fIA",
        "outputId": "fa4217ba-da08-4ec4-93ae-f1f354cfb2a3"
      },
      "execution_count": 41,
      "outputs": [
        {
          "output_type": "stream",
          "name": "stdout",
          "text": [
            "12/12 [==============================] - 2s 202ms/step - loss: 5315.7183 - mae: 42.4057\n",
            "MSE Perdida en el conjunto de prueba: 5315.71826171875\n",
            "MAE en el conjunto de prueba: 42.40570068359375\n"
          ]
        },
        {
          "output_type": "display_data",
          "data": {
            "text/plain": [
              "<Figure size 640x480 with 1 Axes>"
            ],
            "image/png": "[encoded data removed]"
          },
          "metadata": {}
        }
      ]
    },
    {
      "cell_type": "markdown",
      "source": [
        "### Análisis del Rendimiento del Modelo en el Conjunto de Prueba\n",
        "\n",
        "Después de entrenar y evaluar el modelo en el conjunto de prueba, se obtuvieron los siguientes resultados:\n",
        "\n",
        "- **Loss (MSE):** 5315.7183\n",
        "- **MAE:** 42.4057\n",
        "\n",
        "### Interpretación de los Resultados\n",
        "\n",
        "1. **Magnitud del Error:**\n",
        "   - El valor de MSE (Mean Squared Error) y MAE (Mean Absolute Error) son indicativos de la magnitud del error del modelo en el conjunto de prueba. El MSE, en particular, al ser una función cuadrática, penaliza más los errores grandes, lo que sugiere que podría haber algunas predicciones que se desvían significativamente de los valores reales.\n",
        "\n",
        "2. **Contexto del Error:**\n",
        "   - Para interpretar adecuadamente estos valores de error, es crucial considerar el contexto del problema y la escala de la variable objetivo (`Price`). Por ejemplo, un MAE de 42.4057 necesita ser comparado con el rango y la media de los precios para determinar si este error es significativo.\n",
        "\n",
        "3. **Comparación con Modelos Alternativos:**\n",
        "   - Estos resultados deben compararse con los de modelos alternativos y/o un modelo base (como la media o la mediana de la variable objetivo) para evaluar la efectividad del modelo actual. Una mejora sustancial sobre un modelo base puede indicar que el modelo está capturando patrones útiles en los datos.\n",
        "\n",
        "4. **Consideraciones de Sobreajuste:**\n",
        "   - Además, es importante considerar la diferencia entre los errores en los conjuntos de entrenamiento y prueba. Una pequeña diferencia sugiere que el modelo generaliza bien, mientras que una gran diferencia podría indicar sobreajuste.\n",
        "\n",
        "### Recomendaciones para Mejoras\n",
        "\n",
        "- **Experimentación con la Arquitectura del Modelo:**\n",
        "  - Probar con diferentes configuraciones de la red, incluyendo el número de capas, el número de unidades en cada capa, y el uso de técnicas de regularización como Dropout, puede ayudar a mejorar el rendimiento.\n",
        "\n",
        "- **Ajuste Fino y Regularización:**\n",
        "  - Aplicar técnicas de ajuste fino en los hiperparámetros y considerar métodos de regularización adicionales para controlar el sobreajuste.\n",
        "\n",
        "- **Ampliación del Conjunto de Datos:**\n",
        "  - Incrementar la cantidad y diversidad de los datos puede ayudar a mejorar la generalización del modelo.\n",
        "\n",
        "En resumen, mientras los resultados actuales ofrecen una base para la evaluación del modelo, es esencial contextualizar estos errores y explorar estrategias para su mejora continua.\n"
      ],
      "metadata": {
        "id": "M_Q7GzXQdLbb"
      }
    },
    {
      "cell_type": "markdown",
      "source": [
        "###Modelo Imgnenes\n",
        "\n",
        "Este fragmento de código evalúa el rendimiento de un modelo de imágenes en el conjunto de prueba, calculando la pérdida (MSE) y el error absoluto medio (MAE). Los resultados se almacenan en `model_images_test_loss` y `model_images_test_mae`, respectivamente. Finalmente, imprime estos valores para proporcionar una medida cuantitativa del rendimiento del modelo en términos de precisión y error.\n"
      ],
      "metadata": {
        "id": "_97rECI3d3U5"
      }
    },
    {
      "cell_type": "code",
      "source": [
        "model_images_test_loss, model_images_test_mae = model_images.evaluate(X_images_test, y_images_test)\n",
        "\n",
        "print(f\"Model images test loss MSE: {model_images_test_loss}, Model images test MAE: {model_images_test_mae}\")\n"
      ],
      "metadata": {
        "colab": {
          "base_uri": "https://localhost:8080/"
        },
        "id": "wpyjxcT6Fi59",
        "outputId": "463482a8-5f39-435e-babd-01dcd9e9b96b"
      },
      "execution_count": 43,
      "outputs": [
        {
          "output_type": "stream",
          "name": "stdout",
          "text": [
            "12/12 [==============================] - 5s 400ms/step - loss: 5315.7183 - mae: 42.4057\n",
            "Model images test loss MSE: 5315.71826171875, Model images test MAE: 42.40570068359375\n"
          ]
        }
      ]
    },
    {
      "cell_type": "markdown",
      "source": [
        "Se define, compila y entrena un modelo de red neuronal convolucional (CNN) simplificado usando TensorFlow/Keras, diseñado para tareas de regresión. La arquitectura consiste en una entrada para imágenes de tamaño `224x224x3`, una capa convolucional, seguida de aplanamiento y una capa densa antes de la capa de salida lineal. Se compila con el optimizador Adam y una tasa de aprendizaje de `0.01`, usando el error cuadrático medio (MSE) como función de pérdida y monitoreando el error absoluto medio (MAE) como métrica. Finalmente, el modelo se entrena con un conjunto de datos normalizados y se evalúa en un conjunto de prueba, imprimiendo la pérdida y el MAE.\n"
      ],
      "metadata": {
        "id": "JqXuKlWYerjG"
      }
    },
    {
      "cell_type": "code",
      "source": [
        "from tensorflow.keras.models import Model\n",
        "from tensorflow.keras.layers import Input, Conv2D, Flatten, Dense\n",
        "from tensorflow.keras.optimizers import Adam\n",
        "\n",
        "# Definición de la arquitectura del modelo\n",
        "inputs = Input(shape=(224, 224, 3))  # Asume imágenes a color de tamaño 224x224\n",
        "\n",
        "# Una única capa convolucional\n",
        "x = Conv2D(32, kernel_size=(3, 3), activation='relu')(inputs)\n",
        "\n",
        "# Aplanamos el output para poder conectarlo con capas densas\n",
        "x = Flatten()(x)\n",
        "\n",
        "# Una única capa densa antes de la capa de salida\n",
        "x = Dense(16, activation='relu')(x)\n",
        "\n",
        "# Capa de salida para regresión\n",
        "output = Dense(1, activation='linear')(x)\n",
        "\n",
        "# Creación del modelo\n",
        "model_img_simplified = Model(inputs=inputs, outputs=output)\n",
        "\n",
        "# Compilación del modelo\n",
        "model_img_simplified.compile(loss='mse', optimizer=Adam(learning_rate=0.01), metrics=['mae'])\n",
        "\n",
        "# Entrenamiento del modelo con tus datos normalizados\n",
        "history_simplified = model_img_simplified.fit(X_images_train, y_images_train,\n",
        "                                              batch_size=50,\n",
        "                                              shuffle=True,\n",
        "                                              epochs=10,\n",
        "                                              validation_data=(X_images_val, y_images_val))\n",
        "\n",
        "# Evaluación del modelo con tus datos de prueba normalizados\n",
        "scores_simplified = model_img_simplified.evaluate(X_images_test, y_images_test)\n",
        "\n",
        "print(f'Loss: {scores_simplified[0]:.3f}')\n",
        "print(f'MAE: {scores_simplified[1]:.3f}')\n"
      ],
      "metadata": {
        "colab": {
          "base_uri": "https://localhost:8080/"
        },
        "id": "PjCr4uPBGt8b",
        "outputId": "55246c78-3caa-4204-da04-50b4db11664e"
      },
      "execution_count": 20,
      "outputs": [
        {
          "output_type": "stream",
          "name": "stdout",
          "text": [
            "Epoch 1/10\n",
            "24/24 [==============================] - 77s 2s/step - loss: 2935156.0000 - mae: 443.6054 - val_loss: 10647.6299 - val_mae: 69.9248\n",
            "Epoch 2/10\n",
            "24/24 [==============================] - 44s 2s/step - loss: 6984.8418 - mae: 62.3610 - val_loss: 10646.8486 - val_mae: 69.9192\n",
            "Epoch 3/10\n",
            "24/24 [==============================] - 41s 2s/step - loss: 6983.5166 - mae: 62.3505 - val_loss: 10644.8828 - val_mae: 69.9051\n",
            "Epoch 4/10\n",
            "24/24 [==============================] - 41s 2s/step - loss: 6981.5410 - mae: 62.3347 - val_loss: 10642.4346 - val_mae: 69.8876\n",
            "Epoch 5/10\n",
            "24/24 [==============================] - 45s 2s/step - loss: 6979.2065 - mae: 62.3159 - val_loss: 10639.6494 - val_mae: 69.8677\n",
            "Epoch 6/10\n",
            "24/24 [==============================] - 44s 2s/step - loss: 6976.5874 - mae: 62.2949 - val_loss: 10636.5459 - val_mae: 69.8454\n",
            "Epoch 7/10\n",
            "24/24 [==============================] - 42s 2s/step - loss: 6973.7065 - mae: 62.2715 - val_loss: 10633.1357 - val_mae: 69.8210\n",
            "Epoch 8/10\n",
            "24/24 [==============================] - 48s 2s/step - loss: 6970.5591 - mae: 62.2465 - val_loss: 10629.4961 - val_mae: 69.7950\n",
            "Epoch 9/10\n",
            "24/24 [==============================] - 46s 2s/step - loss: 6967.2036 - mae: 62.2193 - val_loss: 10625.5859 - val_mae: 69.7670\n",
            "Epoch 10/10\n",
            "24/24 [==============================] - 43s 2s/step - loss: 6963.6079 - mae: 62.1907 - val_loss: 10621.4648 - val_mae: 69.7374\n",
            "12/12 [==============================] - 4s 289ms/step - loss: 9006.9824 - mae: 66.5358\n",
            "Loss: 9006.982\n",
            "MAE: 66.536\n"
          ]
        }
      ]
    },
    {
      "cell_type": "code",
      "source": [
        "# Muestro gráfica de accuracy y losses\n",
        "plt.style.use(\"ggplot\")\n",
        "plt.figure()\n",
        "plt.plot(np.arange(0, 10), history_simplified.history[\"loss\"], label=\"train_loss\")\n",
        "plt.plot(np.arange(0, 10), history_simplified.history[\"val_loss\"], label=\"val_loss\")\n",
        "plt.title(\"Training Loss and mae\")\n",
        "plt.xlabel(\"Epoch #\")\n",
        "plt.ylabel(\"Loss\")\n",
        "plt.legend()"
      ],
      "metadata": {
        "colab": {
          "base_uri": "https://localhost:8080/",
          "height": 494
        },
        "id": "eEh0EtCRJQYf",
        "outputId": "9c48dc2f-e3fb-495e-b479-6d59bab742ce"
      },
      "execution_count": 22,
      "outputs": [
        {
          "output_type": "execute_result",
          "data": {
            "text/plain": [
              "<matplotlib.legend.Legend at 0x7a2f6841d6c0>"
            ]
          },
          "metadata": {},
          "execution_count": 22
        },
        {
          "output_type": "display_data",
          "data": {
            "text/plain": [
              "<Figure size 640x480 with 1 Axes>"
            ],
            "image/png": "[encoded data removed]"
          },
          "metadata": {}
        }
      ]
    },
    {
      "cell_type": "markdown",
      "source": [
        "## Análisis del Rendimiento del Modelo\n",
        "\n",
        "El modelo de red neuronal convolucional fue entrenado durante 10 épocas, mostrando una disminución constante en la pérdida (loss) y el error absoluto medio (MAE) tanto en el conjunto de entrenamiento como en el de validación. A continuación, se detalla el progreso y la evaluación final:\n",
        "\n",
        "### Progreso Durante el Entrenamiento\n",
        "- **Inicio del Entrenamiento:** La pérdida inicial fue extremadamente alta (`loss: 2935156.0000`), con un MAE también elevado (`mae: 443.6054`), lo que sugiere posibles problemas de escala de los datos o valores atípicos.\n",
        "- **Reducción de Pérdida y MAE:** Con cada época, tanto la pérdida como el MAE en los conjuntos de entrenamiento y validación disminuyeron de manera constante, aunque la pérdida en validación se mantuvo en un rango estrecho (`~10600`), indicando una convergencia estable del modelo.\n",
        "\n",
        "### Evaluación Final en el Conjunto de Prueba\n",
        "- **Pérdida (Loss):** 9006.982, una reducción significativa respecto a la pérdida inicial en el entrenamiento.\n",
        "- **MAE:** 66.536, lo cual es una mejora considerable en comparación con el MAE inicial, aunque aún sugiere un margen de error promedio de ~66 unidades en las predicciones del modelo.\n",
        "\n",
        "### Observaciones y Recomendaciones\n",
        "- **Discrepancia Inicial:** La enorme discrepancia entre los valores iniciales de pérdida y MAE sugiere la necesidad de revisar el preprocesamiento de los datos, especialmente para manejar valores atípicos o escalar adecuadamente las características.\n",
        "- **Estabilidad en la Convergencia:** La pérdida y el MAE muestran una disminución y estabilización consistentes, lo que indica que el modelo está aprendiendo efectivamente de los datos.\n",
        "- **Posible Sobreajuste:** La diferencia entre la pérdida de entrenamiento/validación y la pérdida en el conjunto de prueba podría indicar un inicio de sobreajuste, aunque no es concluyente sin más datos comparativos.\n",
        "- **Mejoras Futuras:** Se recomienda experimentar con ajustes en la arquitectura del modelo, técnicas de regularización adicionales, y un anál\n"
      ],
      "metadata": {
        "id": "eFyXe9tee1bS"
      }
    },
    {
      "cell_type": "markdown",
      "source": [
        "## Convolucional VGG Fine Tuning"
      ],
      "metadata": {
        "id": "EEfQeOouJMda"
      }
    },
    {
      "cell_type": "markdown",
      "source": [
        "Modelo VGG16, con capas superiores removidas y adaptado a imágenes de tamaño 48x48, para realizar tareas de regresión. El modelo fue entrenado con datos reescalados, utilizando una tasa de aprendizaje de 0.001, mostrando la adaptabilidad de arquitecturas preentrenadas a nuevas dimensiones de entrada y tareas específicas.\n",
        "\n",
        "\n",
        "Se reescalan imágenes a `48x48` para todos los conjuntos de datos (`train`, `val`, `test`) y se entrena un modelo VGG16 ajustado, excluyendo las capas superiores, para una tarea de regresión. El modelo, compuesto por capas de aplanamiento, densas y de abandono (`Dropout`), se compila y entrena con estos datos reescalados, utilizando `mse` como pérdida y `mae` para la evaluación de métricas, mostrando la adaptabilidad de modelos preentrenados a nuevas dimensiones de entrada y tareas específicas.\n"
      ],
      "metadata": {
        "id": "hHXbSoM2fM4i"
      }
    },
    {
      "cell_type": "code",
      "source": [
        "import tensorflow as tf\n",
        "\n",
        "# Suponiendo que X_images_train, X_images_val, X_images_test son tus conjuntos de datos originales\n",
        "def resize_images(images):\n",
        "    return tf.image.resize(images, [48, 48])\n",
        "\n",
        "# Aplicamos la función de reescalado a nuestros conjuntos de datos\n",
        "X_images_train_resized = resize_images(X_images_train)\n",
        "X_images_val_resized = resize_images(X_images_val)\n",
        "X_images_test_resized = resize_images(X_images_test)\n",
        "\n",
        "from tensorflow.keras.applications import VGG16\n",
        "from tensorflow.keras.layers import Flatten, Dense, Dropout\n",
        "from tensorflow.keras.models import Sequential\n",
        "from tensorflow.keras.optimizers import Adam\n",
        "\n",
        "# Modelo VGG16 sin capas superiores, ajustado para imágenes de 48x48\n",
        "base_model = VGG16(weights='imagenet', include_top=False, input_shape=(48, 48, 3))\n",
        "base_model.trainable = False  # Congelamos las capas de la base\n",
        "\n",
        "model_VGG16_adjusted = Sequential([\n",
        "    base_model,\n",
        "    Flatten(),\n",
        "    Dense(256, activation='relu'),\n",
        "    Dropout(0.5),\n",
        "    Dense(1)  # Asumiendo una tarea de regresión\n",
        "])\n",
        "\n",
        "# Compilación del modelo ajustado\n",
        "model_VGG16_adjusted.compile(optimizer=Adam(learning_rate=0.001), loss='mse', metrics=['mae'])\n",
        "\n",
        "# Entrenamiento del modelo ajustado con los datos reescalados\n",
        "history_adjusted = model_VGG16_adjusted.fit(X_images_train_resized, y_images_train,\n",
        "                                            batch_size=32, epochs=10,\n",
        "                                            validation_data=(X_images_val_resized, y_images_val))\n"
      ],
      "metadata": {
        "colab": {
          "base_uri": "https://localhost:8080/"
        },
        "id": "i24eb3z0Lxf9",
        "outputId": "f80718c9-a2c2-4930-e5f6-9109ed86b6ef"
      },
      "execution_count": 22,
      "outputs": [
        {
          "output_type": "stream",
          "name": "stdout",
          "text": [
            "Epoch 1/10\n",
            "38/38 [==============================] - 52s 1s/step - loss: 5197.7607 - mae: 45.8672 - val_loss: 6379.4058 - val_mae: 40.4431\n",
            "Epoch 2/10\n",
            "38/38 [==============================] - 39s 1s/step - loss: 3224.5901 - mae: 33.1740 - val_loss: 5681.8213 - val_mae: 40.4138\n",
            "Epoch 3/10\n",
            "38/38 [==============================] - 40s 1s/step - loss: 3064.1980 - mae: 32.4620 - val_loss: 5616.9150 - val_mae: 39.1032\n",
            "Epoch 4/10\n",
            "38/38 [==============================] - 39s 1s/step - loss: 2969.6719 - mae: 31.6312 - val_loss: 5522.4189 - val_mae: 38.4527\n",
            "Epoch 5/10\n",
            "38/38 [==============================] - 42s 1s/step - loss: 2918.9241 - mae: 31.3762 - val_loss: 5555.1450 - val_mae: 37.1771\n",
            "Epoch 6/10\n",
            "38/38 [==============================] - 40s 1s/step - loss: 2863.3491 - mae: 30.7807 - val_loss: 5454.4004 - val_mae: 37.5050\n",
            "Epoch 7/10\n",
            "38/38 [==============================] - 39s 1s/step - loss: 2814.8513 - mae: 30.1148 - val_loss: 5468.6621 - val_mae: 36.8444\n",
            "Epoch 8/10\n",
            "38/38 [==============================] - 39s 1s/step - loss: 2782.5598 - mae: 30.6380 - val_loss: 5453.8140 - val_mae: 36.6360\n",
            "Epoch 9/10\n",
            "38/38 [==============================] - 45s 1s/step - loss: 2733.4893 - mae: 29.5852 - val_loss: 5408.2324 - val_mae: 37.1195\n",
            "Epoch 10/10\n",
            "38/38 [==============================] - 39s 1s/step - loss: 2772.5398 - mae: 30.1451 - val_loss: 5412.9795 - val_mae: 36.9979\n"
          ]
        }
      ]
    },
    {
      "cell_type": "code",
      "source": [
        "# Evaluación del modelo ajustado en el conjunto de test reescalado\n",
        "model_VGG16_test_lossv1, model_VGG16_test_maev1 = model_VGG16_adjusted.evaluate(X_images_test_resized, y_images_test)\n",
        "\n",
        "print(f\"Test Loss: {model_VGG16_test_lossv1}, Test MAE: {model_VGG16_test_maev1}\")\n"
      ],
      "metadata": {
        "colab": {
          "base_uri": "https://localhost:8080/"
        },
        "id": "3FWdFtApFEK0",
        "outputId": "082db496-d502-4650-a33e-820bcf18f130"
      },
      "execution_count": 25,
      "outputs": [
        {
          "output_type": "stream",
          "name": "stdout",
          "text": [
            "12/12 [==============================] - 11s 923ms/step - loss: 4668.1406 - mae: 34.5223\n",
            "Test Loss: 4668.140625, Test MAE: 34.522342681884766\n"
          ]
        }
      ]
    },
    {
      "cell_type": "markdown",
      "source": [
        "Desarrollaria mas módelo con 224 x 224 pero es casi a 15/20 min por epoch y me quedo sin RAM"
      ],
      "metadata": {
        "id": "ltbtSVugR__R"
      }
    },
    {
      "cell_type": "code",
      "source": [
        "plt.style.use(\"ggplot\")\n",
        "plt.figure(figsize=(8, 6))\n",
        "plt.plot(np.arange(0, 10), history_adjusted.history[\"loss\"], label=\"train_loss\")\n",
        "plt.plot(np.arange(0, 10), history_adjusted.history[\"val_loss\"], label=\"val_loss\")\n",
        "plt.title(\"Training and Validation Loss\")\n",
        "plt.xlabel(\"Epoch #\")\n",
        "plt.ylabel(\"Loss\")\n",
        "plt.legend(loc=\"upper right\")\n",
        "\n",
        "plt.show()"
      ],
      "metadata": {
        "colab": {
          "base_uri": "https://localhost:8080/",
          "height": 569
        },
        "id": "kD8OqGimJvqo",
        "outputId": "48a38634-aaa5-4067-b617-056b823651e0"
      },
      "execution_count": 26,
      "outputs": [
        {
          "output_type": "display_data",
          "data": {
            "text/plain": [
              "<Figure size 800x600 with 1 Axes>"
            ],
            "image/png": "[encoded data removed]"
          },
          "metadata": {}
        }
      ]
    },
    {
      "cell_type": "markdown",
      "source": [
        "1. El entrenamiento del modelo sobre datos de imágenes reescaladas a 48x48 muestra una disminución progresiva tanto en la pérdida (`loss`) como en el error absoluto medio (`mae`) a lo largo de 10 épocas.\n",
        "2. La pérdida en el conjunto de validación disminuyó de 6379.4058 a 5412.9795, y el MAE de validación también mostró una mejora, indicando que el modelo está aprendiendo efectivamente de los datos.\n",
        "3. Aunque hubo una reducción consistente en los valores de pérdida y MAE, la variabilidad en el desempeño de validación (leve aumento en algunas épocas) sugiere espacio para optimizar hiperparámetros y posiblemente la arquitectura.\n",
        "4. El modelo muestra capacidad de generalización al mejorar en el conjunto de validación, pero podría beneficiarse de técnicas adicionales de regularización o ajuste para reducir aún más el error y aumentar la precisión.\n"
      ],
      "metadata": {
        "id": "oHBWcM26fpDV"
      }
    },
    {
      "cell_type": "markdown",
      "source": [
        "Se inicializó un modelo secuencial con tres capas densas y activaciones ReLU, finalizando con una capa de salida lineal para regresión. El modelo, compilado con el optimizador Adam y evaluado mediante MSE y MAE, está diseñado para capturar relaciones complejas dentro de datos tabulares.\n"
      ],
      "metadata": {
        "id": "5FI_bwoFfyVE"
      }
    },
    {
      "cell_type": "code",
      "source": [
        "from tensorflow.keras.models import Sequential\n",
        "from tensorflow.keras.layers import Dense\n",
        "from tensorflow.keras.callbacks import EarlyStopping\n",
        "\n",
        "# Inicializamos el modelo\n",
        "model_tab = Sequential()\n",
        "\n",
        "# Definimos las capas densas\n",
        "model_tab.add(Dense(128, activation='relu', input_shape=(X_tab_train.shape[1],)))\n",
        "model_tab.add(Dense(64, activation='relu'))\n",
        "model_tab.add(Dense(32, activation='relu'))\n",
        "model_tab.add(Dense(1, activation='linear'))\n",
        "\n",
        "# Compilamos el modelo\n",
        "model_tab.compile(optimizer='adam', loss='mse', metrics=['mae'])"
      ],
      "metadata": {
        "id": "tm5geti2UpP7"
      },
      "execution_count": 34,
      "outputs": []
    },
    {
      "cell_type": "code",
      "source": [
        "# Entreno el modelo con Early stopping para evitar overfitting\n",
        "\n",
        "early_stopping = EarlyStopping(monitor='val_loss', patience=10, restore_best_weights=True)\n",
        "\n",
        "history = model_tab.fit(\n",
        "    X_tab_train, y_tab_train,\n",
        "    validation_split=0.2,\n",
        "    epochs=100,\n",
        "    callbacks=[early_stopping],\n",
        "    batch_size=32\n",
        ")\n"
      ],
      "metadata": {
        "colab": {
          "base_uri": "https://localhost:8080/"
        },
        "id": "sRv9EonDVjiS",
        "outputId": "bc6cbffd-ea2f-40e2-d8cb-1879b1771a35"
      },
      "execution_count": 35,
      "outputs": [
        {
          "output_type": "stream",
          "name": "stdout",
          "text": [
            "Epoch 1/100\n",
            "30/30 [==============================] - 2s 17ms/step - loss: 5683.8271 - mae: 50.6156 - val_loss: 5236.9087 - val_mae: 43.9086\n",
            "Epoch 2/100\n",
            "30/30 [==============================] - 0s 6ms/step - loss: 4244.8101 - mae: 39.3338 - val_loss: 3971.3535 - val_mae: 39.1386\n",
            "Epoch 3/100\n",
            "30/30 [==============================] - 0s 6ms/step - loss: 3289.8748 - mae: 34.8344 - val_loss: 3043.0544 - val_mae: 35.1515\n",
            "Epoch 4/100\n",
            "30/30 [==============================] - 0s 7ms/step - loss: 2786.4446 - mae: 31.5089 - val_loss: 2432.3953 - val_mae: 31.4466\n",
            "Epoch 5/100\n",
            "30/30 [==============================] - 0s 7ms/step - loss: 2538.6411 - mae: 28.6572 - val_loss: 2135.4539 - val_mae: 29.7750\n",
            "Epoch 6/100\n",
            "30/30 [==============================] - 0s 6ms/step - loss: 2420.8425 - mae: 27.2316 - val_loss: 1929.1266 - val_mae: 29.6238\n",
            "Epoch 7/100\n",
            "30/30 [==============================] - 0s 7ms/step - loss: 2349.4385 - mae: 27.3213 - val_loss: 1887.6331 - val_mae: 26.8582\n",
            "Epoch 8/100\n",
            "30/30 [==============================] - 0s 8ms/step - loss: 2278.4448 - mae: 25.8932 - val_loss: 1750.6353 - val_mae: 29.0029\n",
            "Epoch 9/100\n",
            "30/30 [==============================] - 0s 8ms/step - loss: 2225.0117 - mae: 25.4954 - val_loss: 1616.1124 - val_mae: 25.3349\n",
            "Epoch 10/100\n",
            "30/30 [==============================] - 0s 9ms/step - loss: 2126.6416 - mae: 23.8393 - val_loss: 1537.6283 - val_mae: 25.4045\n",
            "Epoch 11/100\n",
            "30/30 [==============================] - 0s 7ms/step - loss: 2097.8899 - mae: 24.3030 - val_loss: 1517.1892 - val_mae: 24.2008\n",
            "Epoch 12/100\n",
            "30/30 [==============================] - 0s 6ms/step - loss: 2060.5315 - mae: 22.4757 - val_loss: 1473.5776 - val_mae: 25.7776\n",
            "Epoch 13/100\n",
            "30/30 [==============================] - 0s 4ms/step - loss: 2026.8022 - mae: 23.0614 - val_loss: 1423.8462 - val_mae: 22.9734\n",
            "Epoch 14/100\n",
            "30/30 [==============================] - 0s 3ms/step - loss: 1995.9612 - mae: 22.0405 - val_loss: 1477.0074 - val_mae: 26.4743\n",
            "Epoch 15/100\n",
            "30/30 [==============================] - 0s 4ms/step - loss: 2008.1035 - mae: 23.1342 - val_loss: 1383.3765 - val_mae: 21.5883\n",
            "Epoch 16/100\n",
            "30/30 [==============================] - 0s 4ms/step - loss: 1945.4622 - mae: 22.1588 - val_loss: 1349.7990 - val_mae: 21.7333\n",
            "Epoch 17/100\n",
            "30/30 [==============================] - 0s 4ms/step - loss: 1919.1449 - mae: 21.4246 - val_loss: 1328.0923 - val_mae: 22.9479\n",
            "Epoch 18/100\n",
            "30/30 [==============================] - 0s 4ms/step - loss: 1898.5424 - mae: 21.2380 - val_loss: 1346.0166 - val_mae: 23.5864\n",
            "Epoch 19/100\n",
            "30/30 [==============================] - 0s 3ms/step - loss: 1890.0677 - mae: 21.5188 - val_loss: 1379.6631 - val_mae: 24.0613\n",
            "Epoch 20/100\n",
            "30/30 [==============================] - 0s 4ms/step - loss: 1848.6709 - mae: 21.9687 - val_loss: 1357.5709 - val_mae: 21.1947\n",
            "Epoch 21/100\n",
            "30/30 [==============================] - 0s 4ms/step - loss: 1833.4834 - mae: 21.2620 - val_loss: 1378.9913 - val_mae: 23.5265\n",
            "Epoch 22/100\n",
            "30/30 [==============================] - 0s 4ms/step - loss: 1868.1221 - mae: 21.8408 - val_loss: 1324.4421 - val_mae: 21.7841\n",
            "Epoch 23/100\n",
            "30/30 [==============================] - 0s 3ms/step - loss: 1825.8241 - mae: 21.7596 - val_loss: 1348.9741 - val_mae: 21.9997\n",
            "Epoch 24/100\n",
            "30/30 [==============================] - 0s 3ms/step - loss: 1811.0815 - mae: 21.2885 - val_loss: 1320.3331 - val_mae: 21.8774\n",
            "Epoch 25/100\n",
            "30/30 [==============================] - 0s 4ms/step - loss: 1782.0923 - mae: 21.0684 - val_loss: 1344.0623 - val_mae: 21.5750\n",
            "Epoch 26/100\n",
            "30/30 [==============================] - 0s 4ms/step - loss: 1802.1482 - mae: 21.3119 - val_loss: 1283.3839 - val_mae: 21.2352\n",
            "Epoch 27/100\n",
            "30/30 [==============================] - 0s 4ms/step - loss: 1743.0642 - mae: 21.3632 - val_loss: 1348.5808 - val_mae: 20.8991\n",
            "Epoch 28/100\n",
            "30/30 [==============================] - 0s 4ms/step - loss: 1765.5780 - mae: 21.4576 - val_loss: 1362.4580 - val_mae: 21.0729\n",
            "Epoch 29/100\n",
            "30/30 [==============================] - 0s 4ms/step - loss: 1755.5658 - mae: 21.0636 - val_loss: 1331.3293 - val_mae: 21.1077\n",
            "Epoch 30/100\n",
            "30/30 [==============================] - 0s 4ms/step - loss: 1730.7913 - mae: 20.4229 - val_loss: 1337.0342 - val_mae: 23.0392\n",
            "Epoch 31/100\n",
            "30/30 [==============================] - 0s 4ms/step - loss: 1744.7582 - mae: 21.4456 - val_loss: 1357.8192 - val_mae: 21.2231\n",
            "Epoch 32/100\n",
            "30/30 [==============================] - 0s 4ms/step - loss: 1696.9728 - mae: 20.7386 - val_loss: 1353.2167 - val_mae: 21.7576\n",
            "Epoch 33/100\n",
            "30/30 [==============================] - 0s 4ms/step - loss: 1738.5953 - mae: 21.2696 - val_loss: 1422.7380 - val_mae: 22.2816\n",
            "Epoch 34/100\n",
            "30/30 [==============================] - 0s 4ms/step - loss: 1681.9308 - mae: 20.5692 - val_loss: 1352.3728 - val_mae: 21.4207\n",
            "Epoch 35/100\n",
            "30/30 [==============================] - 0s 3ms/step - loss: 1675.4510 - mae: 20.9015 - val_loss: 1442.7845 - val_mae: 20.9856\n",
            "Epoch 36/100\n",
            "30/30 [==============================] - 0s 4ms/step - loss: 1669.3640 - mae: 20.8462 - val_loss: 1357.1639 - val_mae: 21.3981\n"
          ]
        }
      ]
    },
    {
      "cell_type": "markdown",
      "source": [
        "Se entrena un modelo tabular usando Keras, incorporando capas densas y activación ReLU, terminando con una salida lineal para regresión. La compilación utiliza el optimizador Adam, pérdida MSE, y mide el MAE. Para prevenir el sobreajuste, se aplica Early Stopping con una paciencia de 10 épocas, restaurando los mejores pesos, durante un máximo de 100 épocas.\n"
      ],
      "metadata": {
        "id": "uaoFgxwNf_k5"
      }
    },
    {
      "cell_type": "code",
      "source": [
        "# Evaluamos el modelo\n",
        "\n",
        "model_tab_test_loss, model_tab_test_mae = model_tab.evaluate(X_tab_test, y_tab_test)\n",
        "print(f'Pérdida en el conjunto de prueba: {model_tab_test_loss}')\n",
        "print(f'MAE en el conjunto de prueba: {model_tab_test_mae}')\n"
      ],
      "metadata": {
        "colab": {
          "base_uri": "https://localhost:8080/"
        },
        "id": "Xu2eIUOiVoUM",
        "outputId": "8e10d056-3e07-4f4b-99e8-f7b40cb29e68"
      },
      "execution_count": 36,
      "outputs": [
        {
          "output_type": "stream",
          "name": "stdout",
          "text": [
            "12/12 [==============================] - 0s 3ms/step - loss: 4227.8179 - mae: 41.2839\n",
            "Pérdida en el conjunto de prueba: 4227.81787109375\n",
            "MAE en el conjunto de prueba: 41.28390121459961\n"
          ]
        }
      ]
    },
    {
      "cell_type": "markdown",
      "source": [
        "El modelo tabular evaluado muestra una pérdida de 4227.82 y un error absoluto medio (MAE) de 41.28 en el conjunto de prueba. Estos valores proporcionan una medida de la precisión del modelo en la predicción de los objetivos.\n"
      ],
      "metadata": {
        "id": "wu5IMoNigKLW"
      }
    },
    {
      "cell_type": "code",
      "source": [
        "\n",
        "plt.style.use(\"ggplot\")\n",
        "plt.figure(figsize=(8, 6))\n",
        "epochs_range = range(len(history.history[\"loss\"]))\n",
        "\n",
        "plt.plot(epochs_range, history.history[\"loss\"], label=\"train_loss\")\n",
        "plt.plot(epochs_range, history.history[\"val_loss\"], label=\"val_loss\")\n",
        "plt.title(\"Training and Validation Loss\")\n",
        "plt.xlabel(\"Epoch #\")\n",
        "plt.ylabel(\"Loss\")\n",
        "plt.legend(loc=\"upper right\")\n",
        "\n",
        "plt.show()\n"
      ],
      "metadata": {
        "colab": {
          "base_uri": "https://localhost:8080/",
          "height": 569
        },
        "id": "KeY6BBO-WX-0",
        "outputId": "a6bfbb0f-57b8-4e25-d797-2cf3cf274c09"
      },
      "execution_count": 37,
      "outputs": [
        {
          "output_type": "display_data",
          "data": {
            "text/plain": [
              "<Figure size 800x600 with 1 Axes>"
            ],
            "image/png": "[encoded data removed]"
          },
          "metadata": {}
        }
      ]
    },
    {
      "cell_type": "markdown",
      "source": [
        "##Combinación de módelos"
      ],
      "metadata": {
        "id": "64MBoxuu2R5q"
      }
    },
    {
      "cell_type": "markdown",
      "source": [
        "Se realizan predicciones utilizando el modelo VGG16 ajustado en conjuntos de datos de entrenamiento y validación con imágenes reescaladas y el modelo tabular en conjuntos de datos de entrenamiento y validación.\n"
      ],
      "metadata": {
        "id": "-qglY58UgYa5"
      }
    },
    {
      "cell_type": "code",
      "source": [
        "# Predicciones del modelo VGG16 con imágenes reescaladas\n",
        "y_pred_vgg16_train = model_VGG16_adjusted.predict(X_images_train_resized)\n",
        "y_pred_vgg16_val = model_VGG16_adjusted.predict(X_images_val_resized)\n",
        "y_pred_tab_train = model_tab.predict(X_tab_train)\n",
        "y_pred_tab_val = model_tab.predict(X_tab_val)"
      ],
      "metadata": {
        "colab": {
          "base_uri": "https://localhost:8080/"
        },
        "id": "ZMpM9QOQTH_C",
        "outputId": "774b072b-f3b2-4488-e417-dd2d43ba802d"
      },
      "execution_count": 38,
      "outputs": [
        {
          "output_type": "stream",
          "name": "stdout",
          "text": [
            "38/38 [==============================] - 32s 828ms/step\n",
            "10/10 [==============================] - 7s 739ms/step\n",
            "38/38 [==============================] - 0s 2ms/step\n",
            "10/10 [==============================] - 0s 2ms/step\n"
          ]
        }
      ]
    },
    {
      "cell_type": "code",
      "source": [
        "X_combinado_train = np.concatenate([y_pred_vgg16_train, y_pred_tab_train], axis=1)\n",
        "X_combinado_val = np.concatenate([y_pred_vgg16_val, y_pred_tab_val], axis=1)"
      ],
      "metadata": {
        "id": "3B5uxSwvWe_4"
      },
      "execution_count": 39,
      "outputs": []
    },
    {
      "cell_type": "code",
      "source": [
        "from sklearn.ensemble import RandomForestRegressor\n",
        "from sklearn.metrics import mean_squared_error, r2_score\n",
        "\n",
        "# Entrenar el modelo combinado\n",
        "model_combinado = RandomForestRegressor(n_estimators=100, random_state=42)\n",
        "model_combinado.fit(X_combinado_train, y_images_train)\n",
        "\n",
        "# Evaluar el modelo de fusión en el conjunto de validación\n",
        "y_combinado_pred_val = model_combinado.predict(X_combinado_val)\n",
        "combinado_mse_val = mean_squared_error(y_images_val, y_combinado_pred_val)  # Usamos y_images_val porque asumimos que y_tab_val es igual\n",
        "\n",
        "print(f'MSE del modelo de fusión en validación: {combinado_mse_val}')\n"
      ],
      "metadata": {
        "colab": {
          "base_uri": "https://localhost:8080/"
        },
        "id": "TTbUj6SKWq-F",
        "outputId": "2a9d84d3-476e-48d1-a5a8-9eb857d792c1"
      },
      "execution_count": 40,
      "outputs": [
        {
          "output_type": "stream",
          "name": "stdout",
          "text": [
            "MSE del modelo de fusión en validación: 5406.181360067114\n",
            "R^2 del modelo de fusión en validación: 0.061126496771016225\n"
          ]
        }
      ]
    },
    {
      "cell_type": "markdown",
      "source": [
        "El MSE del modelo de fusión en el conjunto de validación es 5406.18, lo que indica una cantidad significativa de error cuadrático medio.\n",
        "El valor de R^2 del modelo de fusión en el conjunto de validación es 0.0611, lo que sugiere que el modelo explica aproximadamente el 6.11% de la variabilidad de los datos, lo que indica un ajuste deficiente.\n"
      ],
      "metadata": {
        "id": "XC4n-J2Fgr3o"
      }
    },
    {
      "cell_type": "markdown",
      "source": [
        "## Resumen General y Conclusiones:\n",
        "\n",
        "### Preprocesamiento de Datos:\n",
        "- Se realizó una selección de columnas relevantes para el análisis.\n",
        "- Se aplicó limpieza de valores nulos, utilizando la moda para imputar valores faltantes.\n",
        "- Se codificaron las variables categóricas utilizando LabelEncoder.\n",
        "\n",
        "### Modelado con Redes Neuronales:\n",
        "- Se crearon modelos de redes neuronales con diferentes arquitecturas y optimizadores.\n",
        "- Se implementaron técnicas como Early Stopping para evitar el sobreajuste durante el entrenamiento.\n",
        "- Se evaluaron los modelos utilizando métricas como Mean Squared Error (MSE) y Mean Absolute Error (MAE).\n",
        "\n",
        "### Modelado con VGG16 y Redes Convolucionales:\n",
        "- Se utilizó la arquitectura de la red neuronal convolucional preentrenada VGG16 para el procesamiento de imágenes.\n",
        "- Se ajustó la arquitectura del modelo para adaptarse a un conjunto de datos específico.\n",
        "- Se reescaló el tamaño de las imágenes para adaptarse a la entrada requerida por la red VGG16.\n",
        "\n",
        "### Evaluación de Modelos:\n",
        "- Se evaluaron los modelos utilizando conjuntos de datos de prueba independientes.\n",
        "- Se calcularon métricas de rendimiento como MSE y MAE para evaluar la precisión de los modelos.\n",
        "- Se analizó el rendimiento del modelo de fusión utilizando métricas como MSE y R^2.\n",
        "\n",
        "### Conclusiones:\n",
        "- El procesamiento adecuado de datos es fundamental para el rendimiento de los modelos.\n",
        "- Se observa una variación significativa en el rendimiento entre diferentes arquitecturas de modelos.\n",
        "- La selección de características, el preprocesamiento de datos y la optimización de modelos influyen en la precisión de las predicciones.\n",
        "- La evaluación cuidadosa de los modelos es crucial para determinar su idoneidad y mejorar su rendimiento.\n"
      ],
      "metadata": {
        "id": "PpuCFBCWhAVS"
      }
    },
    {
      "cell_type": "code",
      "source": [],
      "metadata": {
        "id": "Q-C4nVFBWwRe"
      },
      "execution_count": 47,
      "outputs": []
    }
  ]
}